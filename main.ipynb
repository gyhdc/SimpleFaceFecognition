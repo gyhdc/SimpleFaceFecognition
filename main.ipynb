{
 "cells": [
  {
   "cell_type": "code",
   "execution_count": 37,
   "metadata": {},
   "outputs": [],
   "source": [
    "import os\n",
    "from PIL import Image\n",
    "import torch\n",
    "from torch.utils.data import DataLoader, Dataset\n",
    "import torch.nn as nn\n",
    "import torchvision.transforms as transforms\n",
    "import torchvision.models as models\n",
    "import torch.optim as optim\n",
    "from utils import datasets\n",
    "from utils import utils\n",
    "import warnings\n",
    "\n",
    "# 完全禁用警告\n",
    "warnings.filterwarnings(\"ignore\")"
   ]
  },
  {
   "cell_type": "code",
   "execution_count": 38,
   "metadata": {},
   "outputs": [
    {
     "name": "stdout",
     "output_type": "stream",
     "text": [
      "dataset_sep : [1, 0, 0] \n",
      "resize_size : 128 \n",
      "batch_size : 32 \n",
      "lr : 0.001 \n",
      "epochs : 30 \n",
      "hidden_size : 256 \n",
      "optim : Adam \n",
      "momentum : 0.9 \n",
      "weight_decay : 0.0001 \n",
      "seed : 42 \n",
      "mean : [0.50638, 0.49962538, 0.45205265] \n",
      "std : [0.23568255, 0.24141274, 0.25167742] \n",
      "source_dir : data\\lfw \n",
      "data_path : data\\lfw_split \n",
      "classes : ['Apple', 'Carambola', 'Pear', 'Plum', 'Tomatoes'] \n",
      "datasize : 1000 \n",
      "device : cuda \n"
     ]
    }
   ],
   "source": [
    "# from utils import Config,Logs,BestSelector\n",
    "\n",
    "\n",
    "config=utils.Config(\n",
    "    dataset_sep=[\n",
    "        1,0,0          \n",
    "        ],\n",
    "    resize_size=128,\n",
    "    batch_size=16,\n",
    "    lr=0.001,\n",
    "    epochs=30,\n",
    "    hidden_size=256,\n",
    "    optim=\"Adam\",\n",
    "    momentum=0.9,\n",
    "    weight_decay=1e-4,\n",
    "    seed=42,\n",
    "    mean= [0.50638 ,0.49962538 ,0.45205265],\n",
    "    std=[0.23568255 ,0.24141274 ,0.25167742],\n",
    "    source_dir=r\"data\\lfw\",\n",
    "    data_path=r\"data\\lfw_split\",\n",
    "    classes=[\"Apple\",\"Carambola\",\"Pear\",\"Plum\",\"Tomatoes\"],\n",
    "    datasize=1000,\n",
    "    device=\"cuda\" if torch.cuda.is_available() else \"cpu\"\n",
    ")\n",
    "\n",
    "# classes\n",
    "\n",
    "print(config)\n",
    "# print(torch.cuda.is_available())"
   ]
  },
  {
   "cell_type": "code",
   "execution_count": 39,
   "metadata": {},
   "outputs": [
    {
     "data": {
      "text/plain": [
       "<torch._C.Generator at 0x25f3f46e310>"
      ]
     },
     "execution_count": 39,
     "metadata": {},
     "output_type": "execute_result"
    }
   ],
   "source": [
    "#设置随机数种子\n",
    "torch.manual_seed(config.seed)"
   ]
  },
  {
   "cell_type": "code",
   "execution_count": 40,
   "metadata": {},
   "outputs": [],
   "source": [
    "if False:\n",
    "    datasets.split_data(\n",
    "    data_path=config.source_dir,\n",
    "    tartget_dir=config.data_path,\n",
    "    dataset_sep=config.dataset_sep,\n",
    "    datasize=config.datasize,\n",
    ")"
   ]
  },
  {
   "cell_type": "code",
   "execution_count": 41,
   "metadata": {},
   "outputs": [
    {
     "data": {
      "text/plain": [
       "dataset_sep : [1, 0, 0] \n",
       "resize_size : 128 \n",
       "batch_size : 32 \n",
       "lr : 0.001 \n",
       "epochs : 30 \n",
       "hidden_size : 256 \n",
       "optim : Adam \n",
       "momentum : 0.9 \n",
       "weight_decay : 0.0001 \n",
       "seed : 42 \n",
       "mean : [0.50638, 0.49962538, 0.45205265] \n",
       "std : [0.23568255, 0.24141274, 0.25167742] \n",
       "source_dir : data\\lfw \n",
       "data_path : data\\lfw_split \n",
       "classes : ['Aaron_Eckhart', 'Aaron_Guiel', 'Aaron_Patterson', 'Aaron_Peirsol', 'Aaron_Pena', 'Aaron_Sorkin', 'Aaron_Tippin', 'Abbas_Kiarostami', 'Abba_Eban', 'Abdel_Aziz_Al-Hakim', 'Abdel_Madi_Shabneh', 'Abdel_Nasser_Assidi', 'Abdoulaye_Wade', 'Abdulaziz_Kamilov', 'Abdullah', 'Abdullah_Ahmad_Badawi', 'Abdullah_al-Attiyah', 'Abdullah_Gul', 'Abdullah_Nasseef', 'Abdullatif_Sener', 'Abdul_Majeed_Shobokshi', 'Abdul_Rahman', 'Abel_Aguilar', 'Abel_Pacheco', 'Abid_Hamid_Mahmud_Al-Tikriti', 'Abner_Martinez', 'Abraham_Foxman', 'Aby_Har-Even', 'Adam_Ant', 'Adam_Freier', 'Adam_Herbert', 'Adam_Kennedy', 'Adam_Mair', 'Adam_Rich', 'Adam_Sandler', 'Adam_Scott', 'Adelina_Avila', 'Adel_Al-Jubeir', 'Adisai_Bodharamik', 'Adolfo_Aguilar_Zinser', 'Adolfo_Rodriguez_Saa', 'Adoor_Gopalakarishnan', 'Adriana_Lima', 'Adriana_Perez_Navarro', 'Adrianna_Zuzic', 'Adrian_Annus', 'Adrian_Fernandez', 'Adrian_McPherson', 'Adrian_Murrell', 'Adrian_Nastase', 'Adrien_Brody', 'Afton_Smith', 'Agbani_Darego', 'Agnelo_Queiroz', 'Agnes_Bruckner', 'Ahmad_Jbarah', 'Ahmad_Masood', 'Ahmed_Ahmed', 'Ahmed_Chalabi', 'Ahmed_Ghazi', 'Ahmed_Ibrahim_Bilal', 'Ahmed_Lopez', 'Ahmed_Qureia', 'Ahmet_Demir', 'Ahmet_Necdet_Sezer', 'Aicha_El_Ouafi', 'Aidan_Quinn', 'Aileen_Riggin_Soule', 'Ainsworth_Dyer', 'Ain_Seppik', 'Aishwarya_Rai', 'Aitor_Gonzalez', 'Aiysha_Smith', 'Ai_Sugiyama', 'Ajit_Agarkar', 'AJ_Cook', 'AJ_Lamas', 'Akbar_Al_Baker', 'Akbar_Hashemi_Rafsanjani', 'Akhmed_Zakayev', 'Akiko_Morigami', 'Akmal_Taher', 'Alain_Cervantes', 'Alain_Ducasse', 'Alanis_Morissette', 'Alanna_Ubach', 'Alan_Ball', 'Alan_Dershowitz', 'Alan_Dreher', 'Alan_Greenspan', 'Alan_Greer', 'Alan_Jackson', 'Alan_Mulally', 'Alan_Stonecipher', 'Alan_Tang_Kwong-wing', 'Alan_Trammell', 'Alan_Zemaitis', 'Alastair_Campbell', 'Alastair_Johnston', 'Albaro_Recoba', 'Alberta_Lee', 'Alberto_Acosta', 'Alberto_Fujimori', 'Alberto_Gonzales', 'Alberto_Ruiz_Gallardon', 'Alberto_Sordi', 'Albert_Brooks', 'Albert_Costa', 'Albert_Montanes', 'Albert_Pujols', 'Albrecht_Mentz', 'Aldo_Paredes', 'Alecos_Markides', 'Alec_Baldwin', 'Alejandro_Atchugarry', 'Alejandro_Avila', 'Alejandro_Fernandez', 'Alejandro_Gonzalez_Inarritu', 'Alejandro_Lembo', 'Alejandro_Lerner', 'Alejandro_Lopez', 'Alejandro_Toledo', 'Aleksander_Kwasniewski', 'Aleksander_Voloshin', 'Alek_Wek', 'Alessandra_Cerna', 'Alessandro_Nesta', 'Alexander_Downer', 'Alexander_Losyukov', 'Alexander_Lukashenko', 'Alexander_Payne', 'Alexander_Rumyantsev', 'Alexandra_Jackson', 'Alexandra_Pelosi', 'Alexandra_Rozovskaya', 'Alexandra_Spann', 'Alexandra_Stevenson', 'Alexandra_Vodjanikova', 'Alexandre_Daigle', 'Alexandre_Despatie', 'Alexandre_Herchcovitch', 'Alexandre_Vinokourov', 'Alexa_Loren', 'Alexa_Vega', 'Alexis_Bledel', 'Alexis_Dennisoff', 'Alex_Barros', 'Alex_Cabrera', 'Alex_Cejka', 'Alex_Corretja', 'Alex_Ferguson', 'Alex_Gonzalez', 'Alex_Holmes', 'Alex_King', 'Alex_Penelas', 'Alex_Popov', 'Alex_Sink', 'Alex_Wallau', 'Alex_Zanardi', 'Alfonso_Cuaron', 'Alfonso_Portillo', 'Alfonso_Soriano', 'Alfredo_di_Stefano', 'Alfredo_Moreno', 'Alfredo_Pena', 'Alfred_Ford', 'Alfred_Sant', 'Alice_Fisher', 'Alicia_Hollowell', 'Alicia_Keys', 'Alicia_Molik', 'Alicia_Silverstone', 'Alicia_Witt', 'Alimzhan_Tokhtakhounov', 'Alina_Kabaeva', 'Aline_Chretien', 'Alisha_Richman', 'Alison_Krauss', 'Alison_Lohman', 'Alistair_MacDonald', 'Ali_Abbas', 'Ali_Abdullah_Saleh', 'Ali_Adbul_Karim_Madani', 'Ali_Ahmeti', 'Ali_Bin_Hussein', 'Ali_Fallahian', 'Ali_Hammoud', 'Ali_Khamenei', 'Ali_Mohammed_Maher', 'Ali_Naimi', 'Allan_Houston', 'Allan_Kemakeza', 'Allan_Wagner', 'Allen_Iverson', 'Allen_Rock', 'Allison_Janney', 'Allison_Searing', 'Allyson_Felix', 'Ally_Sheedy', 'Alma_Powell', 'Almeida_Baptista', 'Alonzo_Mourning', 'Alvaro_Noboa', 'Alvaro_Silva_Calderon', 'Alvaro_Uribe', 'Alyse_Beaupre', 'Alyson_Hannigan', 'Aly_Wagner', 'Al_Cardenas', 'Al_Davis', 'Al_Gore', 'Al_Leiter', 'Al_Pacino', 'Al_Sharpton', 'Amanda_Beard', 'Amanda_Bynes', 'Amanda_Coetzer', 'Amanda_Marsh', 'Amanda_Plumer', 'Amber_Frey', 'Amber_Tamblyn', 'Ambrose_Lee', 'Amelia_Vega', 'Amelie_Mauresmo', 'Amer_al-Saadi', 'Amporn_Falise', 'Amram_Mitzna', 'Amr_Moussa', 'Amy_Brenneman', 'Amy_Cotton', 'Amy_Gale', 'Amy_Pascal', 'Amy_Redford', 'Amy_Smart', 'Amy_Yasbeck', 'Anastasia_Kelesidou', 'Anastasia_Myskina', 'Anatoliy_Kinakh', 'Ana_Claudia_Talancon', 'Ana_Guevara', 'Ana_Isabel_Sanchez', 'Ana_Palacio', 'Ana_Paula_Gerard', 'Ana_Sebastiao', 'Anderson_Varejao', 'Anders_Ebbeson', 'Anders_Fogh_Rasmussen', 'Andreas_Vinciguerra', 'Andrea_Bocelli', 'Andrea_De_Cruz', 'Andrea_Kiser', 'Andrea_Yates', 'Andrei_Konchalovsky', 'Andrei_Mikhnevich', 'Andrei_Nikolishin', 'Andres_DAlessandro', 'Andres_Manuel_Lopez_Obrador', 'Andres_Pastrana', 'Andrew_Bernard', 'Andrew_Bunner', 'Andrew_Caldecott', 'Andrew_Cuomo', 'Andrew_Fastow', 'Andrew_Firestone', 'Andrew_Gilligan', 'Andrew_Jarecki', 'Andrew_Luster', 'Andrew_Niccol', 'Andrew_Sabey', 'Andrew_Shutley', 'Andrew_Weissmann', 'Andrew_Wetzler', 'Andre_Agassi', 'Andre_Bucher', 'Andre_Lange', 'Andre_Smith', 'Andre_Techine', 'Andrzej_Tyszkiewicz', 'Andy_Benes', 'Andy_Bryant', 'Andy_Dick', 'Andy_Garcia', 'Andy_Graves', 'Andy_Griffith', 'Andy_Griggs', 'Andy_Hebb', 'Andy_Lau', 'Andy_Madikians', 'Andy_North', 'Andy_Perez', 'Andy_Roddick', 'Andy_Rooney', 'Andy_Warhol', 'Andy_Wisecarver', 'Anette_Hosoi', 'AnFernce_Negron', 'Angela_Alvarado_Rosa', 'Angela_Bassett', 'Angela_Lansbury', 'Angela_Mascia-Frye', 'Angela_Merkel', 'Angelica_Romero', 'Angelina_Jolie', 'Angelo_Genova', 'Angelo_Reyes', 'Angel_Lockward', 'Angel_Maza', 'Angie_Arzola', 'Angie_Martinez', 'Anibal_Ibarra', 'Anil_Ramsook', 'Anita_DeFrantz', 'Anja_Paerson', 'Anjum_Hussain', 'Anna_Chicherova', 'Anna_Faris', 'Anna_Jones', 'Anna_Kournikova', 'Anna_Nicole_Smith', 'Anneli_Jaatteenmaki', 'Annette_Bening', 'Annette_Lu', 'Anne_Cavers', 'Anne_Donovan', 'Anne_Heche', 'Anne_Krueger', 'Anne_McLellan', 'Anne_ONeil', 'Annie-Jeanne_Reynaud', 'Annie_Chaplin', 'Annie_Machon', 'Annika_Sorenstam', 'Ann_Godbehere', 'Ann_Landers', 'Ann_Morgan', 'Ann_Veneman', 'Antanas_Valionis', 'Anthony_Carter', 'Anthony_Corso', 'Anthony_Ervin', 'Anthony_Fauci', 'Anthony_Garotinho', 'Anthony_Hazen', 'Anthony_Hopkins', 'Anthony_LaPaglia', 'Anthony_Lee_Johnson', 'Anthony_Mazur', 'Anthony_Pico', 'Anthony_Pisciotti', 'Anthony_Principi', 'Anthony_Rackauckas', 'Anthony_Scott_Miller', 'Antje_Buschschulte', 'Antonio_Banderas', 'Antonio_Bernardo', 'Antonio_Cassano', 'Antonio_Catania', 'Antonio_Elias_Saca', 'Antonio_Palocci', 'Antonio_Trillanes', 'Antony_Leung', 'Anton_Balasingham', 'Antwun_Echols', 'Anwar_Ibrahim', 'Anzori_Kikalishvili', 'Aparna_Pillai', 'Aram_Adler', 'Arantxa_Sanchez-Vicario', 'Aretha_Franklin', 'Arianna_Huffington', 'Ariel_Sharon', 'Arie_Haan', 'Arif_Mardin', 'Ari_Bousbib', 'Ari_Fleischer', 'Arlen_Specter', 'Armando_Avila_Panchame', 'Armando_Calderon_Sol', 'Armando_Carrillo', 'Armand_Sargen', 'Arminio_Fraga', 'Arnaud_Clement', 'Arnaud_Lagardere', 'Arnie_Boehm', 'Arnoldo_Aleman', 'Arnold_Palmer', 'Arnold_Schwarzenegger', 'Arnold_Scott', 'Aron_Ralston', 'Arsinee_Khanjian', 'Arthur_Johnson', 'Arthur_Martinez', 'Artieas_Shanks', 'Arturo_Gatti', 'Art_Cooper', 'Art_Hoffmann', 'Art_Howe', 'Art_Lopez', 'Arye_Mekel', 'Asa_Hutchinson', 'Ascencion_Barajas', 'Ashanti', 'Ashlea_Talbot', 'Ashley_Judd', 'Ashley_Olsen', 'Ashley_Postell', 'Ashraf_Alasmar', 'Ashraf_Ghani', 'Ashton_Kutcher', 'Asif_Ali_Zardari', 'Asif_Hanif', 'Askar_Akayev', 'Asmaa_Assad', 'Assad_Ahmadi', 'Astou_Ndiaye-Diatta', 'Astrid_Betancourt', 'Astrid_Eyzaguirre', 'Atal_Bihari_Vajpayee', 'Ataollah_Mohajerani', 'Atiabet_Ijan_Amabel', 'Atom_Egoyan', 'Atsushi_Sato', 'Audrey_Lacroix', 'Audrey_Sauret', 'Augustin_Calleri', 'Augusto_Pinochet', 'Augusto_Roa_Bastos', 'Aung_San_Suu_Kyi', 'Austin_Kearns', 'Avril_Lavigne', 'Azmi_Bishara', 'Azra_Akin', 'Babe_Ruth', 'Baburam_Bhattari', 'Bak_Chang-Ryun', 'Barbara_Bach', 'Barbara_Becker', 'Barbara_Bodine', 'Barbara_Boxer', 'Barbara_Brezigar', 'Barbara_De_Brun', 'Barbara_Esbin', 'Barbara_Felt-Miller', 'Barbara_Roberts', 'Barbara_Walters', 'Barbora_Strycova', 'Barbra_Streisand', 'Barrett_Jackman', 'Barry_Alvarez', 'Barry_Bonds', 'Barry_Collier', 'Barry_Diller', 'Barry_Ford', 'Barry_Hinson', 'Barry_Nakell', 'Barry_Switzer', 'Barry_Williams', 'Barry_Zito', 'Bartosz_Kizierowski', 'Bart_Freundlich', 'Bart_Hendricks', 'Barzan_al-Tikriti', 'Basdeo_Panday', 'Bashar_Assad', 'Baz_Luhrmann', 'BB_King', 'Beatrice_Dalle', 'Beatriz_Merino', 'Beecher_Ray_Kirby', 'Begum_Khaleda_Zia', 'Bela_Karolyi', 'Benazir_Bhutto', 'Benedita_da_Silva', 'Benicio_Del_Toro', 'Benito_Santiago', 'Benjamin_Bratt', 'Benjamin_Franklin', 'Benjamin_Martinez', 'Benjamin_McKenzie', 'Benjamin_Netanyahu', 'Benjamin_Neulander', 'Ben_Affleck', 'Ben_Betts', 'Ben_Braun', 'Ben_Broussard', 'Ben_Cahoon', 'Ben_Chandler', 'Ben_Cohen', 'Ben_Curtis', 'Ben_Davis', 'Ben_Glisan', 'Ben_Howland', 'Ben_Kingsley', 'Ben_Lee', 'Ben_Stein', 'Ben_Wallace', 'Bernadette_Peters', 'Bernardo_Segura', 'Bernard_Ebbers', 'Bernard_Giraudeau', 'Bernard_Kerik', 'Bernard_Landry', 'Bernard_Law', 'Bernard_Lord', 'Bernard_Siegel', 'Bernice_Wong', 'Bertie_Ahern', 'Bertrand_Bonello', 'Bertrand_Delanoe', 'Beth_Blough', 'Beth_Jones', 'Betsy_Coffin', 'Betsy_Smith', 'Bettina_Rheims', 'Betty_Garrison', 'Betty_Williams', 'Beyonce_Knowles', 'Bianca_Jagger', 'Bijan_Darvish', 'Bijan_Namdar_Zangeneh', 'Bilal_Erdogan', 'Biljana_Plavsic', 'Billy_Andrade', 'Billy_Beane', 'Billy_Bob_Thornton', 'Billy_Boyd', 'Billy_Crawford', 'Billy_Crystal', 'Billy_Donovan', 'Billy_Edelin', 'Billy_Gilman', 'Billy_Graham', 'Billy_Joel', 'Billy_Rork', 'Billy_Sollie', 'Billy_Tibbets', 'Bill_Belichick', 'Bill_Bradley', 'Bill_Butler', 'Bill_Byrne', 'Bill_Callahan', 'Bill_Carmody', 'Bill_Cartwright', 'Bill_Clancy', 'Bill_Clinton', 'Bill_Curry', 'Bill_Doba', 'Bill_Duffey', 'Bill_Elliott', 'Bill_Fennelly', 'Bill_Frist', 'Bill_Gates', 'Bill_Graham', 'Bill_Guerin', 'Bill_Herrion', 'Bill_Hughes', 'Bill_King', 'Bill_Kollar', 'Bill_Kong', 'Bill_Lerach', 'Bill_Maher', 'Bill_Mauldin', 'Bill_McBride', 'Bill_Nelson', 'Bill_OReilly', 'Bill_Parcells', 'Bill_Parsons', 'Bill_Paxton', 'Bill_Pryor', 'Bill_Rainer', 'Bill_Readdy', 'Bill_Richardson', 'Bill_Self', 'Bill_Simon', 'Bill_Sizemore', 'Bill_Stapleton', 'Bill_Stein', 'Bill_Walton', 'Bing_Crosby', 'Binyamin_Ben-Eliezer', 'Bison_Dele', 'Bixente_LIzarazu', 'BJ_Habibie', 'Blas_Ople', 'Blythe_Danner', 'Blythe_Hartley', 'Bobby_Bowden', 'Bobby_Goldwater', 'Bobby_Jackson', 'Bobby_Kielty', 'Bobby_Robson', 'Bobo_Balde', 'Bob_Alper', 'Bob_Beauprez', 'Bob_Bowlsby', 'Bob_Cantrell', 'Bob_Colvin', 'Bob_Crippen', 'Bob_Curtis', 'Bob_Dole', 'Bob_Eskridge', 'Bob_Ferguson', 'Bob_Geldof', 'Bob_Goldman', 'Bob_Graham', 'Bob_Guccione', 'Bob_Hartley', 'Bob_Hayes', 'Bob_Herz', 'Bob_Holden', 'Bob_Hope', 'Bob_Huggins', 'Bob_Iger', 'Bob_Krueger', 'Bob_Melvin', 'Bob_Menendez', 'Bob_Newhart', 'Bob_Petrino', 'Bob_Riley', 'Bob_Stoops', 'Bob_Sulkin', 'Bob_Taft', 'Bob_Wright', 'Bode_Miller', 'Bonnie_Fuller', 'Bonnie_Hunt', 'Bono', 'Boris_Becker', 'Boris_Berezovsky', 'Boris_Henry', 'Boris_Jordan', 'Boris_Trajkovski', 'Boris_Yeltsin', 'Boutros_Boutros_Ghali', 'Bo_Pelini', 'Bo_Ryan', 'Brady_Rodgers', 'Brad_Alexander_Smith', 'Brad_Banks', 'Brad_Brownell', 'Brad_Garrett', 'Brad_Gushue', 'Brad_Johnson', 'Brad_Miller', 'Brad_Pitt', 'Brad_Russ', 'Brad_Smith', 'Brad_Wilk', 'Brajesh_Mishra', 'Brandon_Boyd', 'Brandon_Fails', 'Brandon_Hammond', 'Brandon_Inge', 'Brandon_Jones', 'Brandon_Knight', 'Brandon_Larson', 'Brandon_Lloyd', 'Brandon_Robinson', 'Brandon_Spann', 'Brandon_Webb', 'Branko_Crvenkovski', 'Brawley_King', 'Brendan_Fraser', 'Brendan_Gaughan', 'Brendan_Hansen', 'Brendan_Stai', 'Brenda_Magana', 'Brenda_van_Dam', 'Brenda_Wilson', 'Brennon_Leighton', 'Brent_Coles', 'Brett_Boone', 'Brett_Hawke', 'Brett_Hull', 'Brett_Perry', 'Brian_Billick', 'Brian_Campbell', 'Brian_Cashman', 'Brian_Clemens', 'Brian_Cook', 'Brian_Cowen', 'Brian_De_Palma', 'Brian_Florence', 'Brian_Grazier', 'Brian_Gregory', 'Brian_Griese', 'Brian_Heidik', 'Brian_Henson', 'Brian_Jordan', 'Brian_Kerr', 'Brian_Lara', 'Brian_McIntyre', 'Brian_Meadors', 'Brian_Mulroney', 'Brian_Olson', 'Brian_Pavlich', 'Brian_Scalabrine', 'Brian_Schneider', 'Brian_StPierre', 'Brian_Van_Dusen', 'Brian_Weaver', 'Brian_Wells', 'Brian_Williams', 'Bridgette_Wilson-Sampras', 'Bridget_Fonda', 'Brigitte_Boisselier', 'Britney_Spears', 'Brittany_Snow', 'Brock_Berlin', 'Bronson_Arroyo', 'Brooke_Adams', 'Brooke_Gordon', 'Brooke_Shields', 'Brook_Robinson', 'Bruce_Arena', 'Bruce_Gebhardt', 'Bruce_Lunsford', 'Bruce_Paltrow', 'Bruce_Springsteen', 'Bruce_Van_De_Velde', 'Bruce_Weber', 'Bruce_Willis', 'Bruna_Colosio', 'Bruno_Junquiera', 'Bryant_Young', 'Bryan_Adams', 'Bryan_Chui', 'Bryan_Cooley', 'Bryan_Murray', 'Bryan_Thomas', 'Bryce_Carmine', 'Buck_Rodgers', 'Buddy_Ryan', 'Budd_Schulberg', 'Bud_Selig', 'Buford_Blount', 'Bulent_Ecevit', 'Bustam_A_Zedan_Aljanabi', 'Butch_Davis', 'Buzz_Hargrove', 'Byron_Scott', 'Cabas', 'Caio_Blat', 'Calbert_Cheaney', 'Calista_Flockhart', 'Calvin_Harrison', 'Calvin_Joseph_Coleman', 'Cameron_Diaz', 'Camilla_Parker_Bowles', 'Camille_Colvin', 'Camille_Lewis', 'Camryn_Manheim', 'Candace_Sutton', 'Candice_Beatty', 'Candice_Bergen', 'Candie_Kung', 'Carey_Lowell', 'Carina_Lau_Ka-ling', 'Carin_Koch', 'Cari_Davis', 'Carla_Del_Ponte', 'Carla_Gay_Balingit', 'Carla_Gugino', 'Carla_Moreno', 'Carla_Myers', 'Carla_Sullivan', 'Carla_Tricoli', 'Carlos_Alberto', 'Carlos_Alberto_Parreira', 'Carlos_Arroyo', 'Carlos_Barra', 'Carlos_Barragan', 'Carlos_Beltran', 'Carlos_Bianchi', 'Carlos_De_Abreu', 'Carlos_Fasciolo', 'Carlos_Ghosn', 'Carlos_Iturgaitz', 'Carlos_Juarez', 'Carlos_Lordkipanitse', 'Carlos_Manuel_Pruneda', 'Carlos_Menem', 'Carlos_Mesa', 'Carlos_Moya', 'Carlos_Ortega', 'Carlos_Paternina', 'Carlos_Queiroz', 'Carlos_Quintanilla_Schmidt', 'Carlos_Ruckauf', 'Carlos_Ruiz', 'Carlos_Salinas', 'Carlos_Savedra', 'Carlos_Vives', 'Carlo_Ancelotti', 'Carlo_Azeglio_Ciampi', 'Carlton_Baugh', 'Carlton_Dotson', 'Carly_Fiorina', 'Carly_Gullickson', 'Carl_Levin', 'Carl_Pope', 'Carl_Reiner', 'Carmen_Electra', 'Carolina_Barco', 'Carolina_Kluft', 'Carolina_Moraes', 'Caroline_Dhavernas', 'Caroline_Kennedy', 'Caroline_Link', 'Carolyn_Dawn_Johnson', 'Carolyn_Kuhl', 'Carol_Burnett', 'Carol_Carmody', 'Carol_Moseley_Braun', 'Carol_Niedermayer', 'Carol_Williams', 'Carrie-Anne_Moss', 'Carroll_Weimer', 'Carson_Daly', 'Carson_Palmer', 'Casey_Crowder', 'Casey_Mears', 'Cassandra_Heise', 'Cass_Ballenger', 'Casy_Preslar', 'Cate_Blanchett', 'Catherine_Bell', 'Catherine_Deneuve', 'Catherine_Donkers', 'Catherine_Ndereba', 'Catherine_Woodard', 'Catherine_Zeta-Jones', 'Cathryn_Crawford', 'Cathy_Chisholm', 'Cathy_Cunningham', 'Cathy_Freeman', 'Catriona_Le_May_Doan', 'Cecile_de_France', 'Cecilia_Bolocco', 'Cecilia_Chang', 'Cecilia_Cheung', 'Cedric_Benson', 'Celia_Cruz', 'Celine_Dion', 'Celso_Amorim', 'Celso_Lafer', 'Cemil_Cicek', 'Cesar_Gaviria', 'Cesar_Maia', 'Chadha_Gurinder', 'Chakib_Khelil', 'Chance_Mock', 'Chanda_Rubin', 'Chandrika_Kumaratunga', 'Chang_Dae-whan', 'Chang_Jae_On', 'Chang_Saio-yue', 'Chang_Sang', 'Chang_Tso', 'Chante_Jawan_Mallard', 'Chan_Choi', 'Chan_Gailey', 'Chan_Ho_Park', 'Charla_Moye', 'Charlene_Barshefsky', 'Charles_Bell', 'Charles_Bronson', 'Charles_Chandler_IV', 'Charles_Cope', 'Charles_Grassley', 'Charles_Holzner', 'Charles_Ingram', 'Charles_Kartman', 'Charles_Lebois', 'Charles_Mathews', 'Charles_Moose', 'Charles_Pickering', 'Charles_Pouty', 'Charles_Richardson', 'Charles_Rogers', 'Charles_Schumer', 'Charles_Tannok', 'Charles_Taylor', 'Charley_Armey', 'Charlie_Coles', 'Charlie_Deane', 'Charlie_Garner', 'Charlie_Hunnam', 'Charlie_Sheen', 'Charlie_Williams', 'Charlie_Zaa', 'Charlize_Theron', 'Charlotte_Casiraghi', 'Charlotte_Chambers', 'Charlotte_Church', 'Charlotte_Rampling', 'Charlton_Heston', 'Charmaine_Crooks', 'Chawki_Armali', 'Cha_Yung-gu', 'Chea_Sophara', 'Chelsea_Clinton', 'Chen_Kaige', 'Chen_Liang_Yu', 'Chen_Shui-bian', 'Chen_Tsai-chin', 'Cherie_Blair', 'Cherry_Jones', 'Cheryl_Ford', 'Cheryl_Hines', 'Cheryl_James', 'Cheryl_Little', 'Cheryl_Tiegs', 'Chhouk_Rin', 'Chick_Hearn', 'Chin-Feng_Chen', 'Chin-Hui_Tsao', 'Chip_Burrus', 'Chip_Ganassi', 'Chip_Knight', 'Chistian_Stahl', 'Chita_Rivera', 'Chloe_Sevigny', 'Choi_Sung-hong', 'Choi_Yun-yong', 'Chok_Tong_Goh', 'Cho_Myung-kyun', 'Christiane_Wulff', 'Christian_Bale', 'Christian_Fittipaldi', 'Christian_Gimenez', 'Christian_Lacroix', 'Christian_Lirette', 'Christian_Longo', 'Christian_Malcolm', 'Christian_Olsson', 'Christian_Patino', 'Christian_Von_Wernich', 'Christian_Wulff', 'Christina_Aguilera', 'Christina_Sawaya', 'Christine_Arron', 'Christine_Baumgartner', 'Christine_Ebersole', 'Christine_Gregoire', 'Christine_Rau', 'Christine_Todd_Whitman', 'Christopher_Amolsch', 'Christopher_Conyers', 'Christopher_Matero', 'Christopher_Patten', 'Christopher_Reeve', 'Christopher_Russell', 'Christopher_Speer', 'Christopher_Walken', 'Christopher_Whittle', 'Christoph_Daum', 'Christy_Ferer', 'Christy_Turlington', 'Chris_Andrews', 'Chris_Bell', 'Chris_Byrd', 'Chris_Cirino', 'Chris_Claiborne', 'Chris_Columbus', 'Chris_Cookson', 'Chris_Cooper', 'Chris_Cornell', 'Chris_Crocker', 'Chris_Dodd', 'Chris_Forsyth', 'Chris_Gratton', 'Chris_Hernandez', 'Chris_Klein', 'Chris_Kolanas', 'Chris_Matthews', 'Chris_Moore', 'Chris_Neil', 'Chris_Noth', 'Chris_Penn', 'Chris_Pronger', 'Chris_Reitsma', 'Chris_Rock', 'Chris_Simon', 'Chris_Swecker', 'Chris_Terry', 'Chris_Thomas', 'Chris_Tucker', 'Chris_Whitney', 'Chuanyun_Li', 'Chuck_Amato', 'Chuck_Bednarik', 'Chuck_Eidson', 'Chuck_Finley', 'Chuck_Hagel', 'Chuck_Woolery', 'Chuck_Yeager', 'Chung_Mong-hun', 'Chung_Mong-joon', 'Chyung_Dai-chul'] \n",
       "datasize : 1000 \n",
       "device : cuda "
      ]
     },
     "execution_count": 41,
     "metadata": {},
     "output_type": "execute_result"
    }
   ],
   "source": [
    "classes=os.listdir(config.source_dir)[:config.datasize]\n",
    "config.update(classes=classes)\n",
    "config"
   ]
  },
  {
   "cell_type": "code",
   "execution_count": 42,
   "metadata": {},
   "outputs": [
    {
     "name": "stdout",
     "output_type": "stream",
     "text": [
      "train_datsets :2100\n",
      "val_datasets : 2100\n",
      "dataloader加载完毕,65\n"
     ]
    }
   ],
   "source": [
    "def get_data_path(typ,path=config.data_path):\n",
    "    return os.path.join(path,typ)\n",
    "crop_rate=2000\n",
    "train_dataset=datasets.CustomImageDataset(\n",
    "    get_data_path('train'),\n",
    "    classes=config.classes,\n",
    "    transform=datasets.get_transform(\n",
    "        resize_size=config.resize_size,\n",
    "        mean=config.mean,std=config.std\n",
    "        )\n",
    ")\n",
    "val_dataset=datasets.CustomImageDataset(\n",
    "    get_data_path(\"train\"),\n",
    "    classes=config.classes,\n",
    "    transform=datasets.get_transform(\n",
    "        \"train\",\n",
    "        config.resize_size,\n",
    "        mean=config.mean,\n",
    "        std=config.std\n",
    "        )\n",
    ")\n",
    "\n",
    "print(f\"train_datsets :{len(train_dataset)}\\nval_datasets : {len(val_dataset)}\")\n",
    "train_loader=DataLoader(train_dataset,batch_size=config.batch_size,shuffle=True,drop_last=True)\n",
    "val_loader=DataLoader(val_dataset,batch_size=config.batch_size,shuffle=False)\n",
    "print(f\"dataloader加载完毕,{len(train_loader)}\")\n"
   ]
  },
  {
   "cell_type": "code",
   "execution_count": 43,
   "metadata": {},
   "outputs": [],
   "source": [
    "from utils import net\n",
    "def get_pretrained(hidden_size=config.hidden_size,config=config):\n",
    "    # model=net.BinaryClassificationMobileNetV3Large(out_size=len(config.classes))\n",
    "    model=net.CustomEfficientNet_b1(len(config.classes),hidden_size=hidden_size)\n",
    "    # model=net.CustomResNet(len(config.classes),hidden_size=hidden_size)\n",
    "    # model=net.CustomEfficientNet_b1(len(config.classes),hidden_size=512)\n",
    "    return model.to(config.device)\n",
    "    # return model\n",
    "\n"
   ]
  },
  {
   "cell_type": "code",
   "execution_count": 44,
   "metadata": {},
   "outputs": [],
   "source": [
    "from sklearn.metrics import precision_score, recall_score, f1_score, accuracy_score\n",
    "from sklearn.metrics import roc_curve, roc_auc_score, auc\n",
    "from sklearn.metrics import average_precision_score\n",
    "def weighted_average_metrics(acc, ap, precision , recall, loss, weights=[30, 1.2, 1,1, 1.05]):\n",
    "    loss=1-loss\n",
    "    weighted_acc = acc * weights[0]\n",
    "    weighted_ap = ap * weights[1]\n",
    "    weighted_precision=precision*weights[2]\n",
    "    weighted_recall = recall * weights[3]\n",
    "    weighted_loss = loss * weights[4]\n",
    "\n",
    "    weighted_average = (weighted_acc + weighted_ap + weighted_precision + weighted_recall + weighted_loss) / sum(weights)\n",
    "\n",
    "    return weighted_average\n"
   ]
  },
  {
   "cell_type": "code",
   "execution_count": 45,
   "metadata": {},
   "outputs": [
    {
     "name": "stdout",
     "output_type": "stream",
     "text": [
      "torch.float32\n",
      "torch.Size([32])\n"
     ]
    }
   ],
   "source": [
    "#查看数据加载情况\n",
    "for inputs, labels in train_loader:\n",
    "    print(inputs.dtype)\n",
    "    inputs=inputs.to(config.device)\n",
    "    labels=labels.to(config.device)\n",
    "    \n",
    "    print(labels.reshape(-1,1).squeeze().shape)\n",
    "    break"
   ]
  },
  {
   "cell_type": "code",
   "execution_count": 46,
   "metadata": {},
   "outputs": [],
   "source": [
    "# 定义训练\n",
    "import numpy as np\n",
    "from tqdm import tqdm\n",
    "\n",
    "def float_equal(a, b, epsilon=1e-4):\n",
    "    return abs(a - b) < epsilon\n",
    "\n",
    "# 使用示例\n",
    "\n",
    "def train_model(model, criterion, optimizer, train_loader, val_loader,bestMod,train_logs, num_epochs=config.epochs):\n",
    "    train_loss_lst=[]\n",
    "    val_acc_lst=[]\n",
    "    precision_lst=[] \n",
    "    recall_lst=[]\n",
    "    f1_lst=[]\n",
    "    ap_lst=[]\n",
    "    for epoch in tqdm(range(num_epochs)):\n",
    "        model.train()\n",
    "        running_loss = 0.0\n",
    "        for inputs, labels in train_loader:\n",
    "            inputs=inputs.to(config.device)\n",
    "            labels=labels.to(config.device)\n",
    "            optimizer.zero_grad()\n",
    "            outputs = model(inputs)\n",
    "            loss = criterion(outputs, labels)\n",
    "            loss.backward()\n",
    "            optimizer.step()\n",
    "            running_loss += loss.item()\n",
    "\n",
    "        # 打印每个epoch的训练损失\n",
    "        epoch_loss=running_loss / len(train_loader)\n",
    "\n",
    "        # 在验证集上评估模型\n",
    "        model.eval()\n",
    "        correct = 0\n",
    "        total = 0\n",
    "        true_labels = []\n",
    "        predicted_labels = []\n",
    "        predicted_scores = []\n",
    "        with torch.no_grad():\n",
    "            for inputs, labels in val_loader:\n",
    "                inputs=inputs.to(config.device)\n",
    "                labels=labels.to(config.device)\n",
    "                outputs = model(inputs)\n",
    "                _, predicted = torch.max(outputs.data, 1)\n",
    "                total += labels.size(0)\n",
    "                correct += (predicted == labels).sum().item()\n",
    "                true_labels.extend(labels.cpu().numpy())\n",
    "                predicted_labels.extend(predicted.cpu().numpy())\n",
    "                predicted_scores.extend(outputs[:, 1].cpu().numpy())\n",
    "        \n",
    "        # 验证准确率\n",
    "        \n",
    "        accuracy = accuracy_score(true_labels, predicted_labels)\n",
    "        precision = precision_score(true_labels, predicted_labels,average=\"macro\")\n",
    "        recall = recall_score(true_labels, predicted_labels,average=\"macro\")\n",
    "        f1 = f1_score(true_labels, predicted_labels,average=\"macro\")\n",
    "        ap = average_precision_score(np.array(true_labels).reshape(-1, 1), np.array(predicted_scores).reshape(-1, 1))\n",
    "\n",
    "        train_loss_lst.append(epoch_loss)\n",
    "        val_acc_lst.append(accuracy)\n",
    "        precision_lst.append(precision)\n",
    "        recall_lst.append(recall)\n",
    "        f1_lst.append(f1)\n",
    "        ap_lst.append(ap)\n",
    "        zh=weighted_average_metrics(\n",
    "            acc=accuracy, recall=recall, ap=ap,loss=loss, precision=precision\n",
    "        )\n",
    "        try:\n",
    "            mod_zh=weighted_average_metrics(\n",
    "                acc=bestMod.acc,\n",
    "                ap=bestMod.ap,\n",
    "                loss=bestMod.loss,\n",
    "                recall=bestMod.recall,\n",
    "                precision=precision\n",
    "            )\n",
    "        except:\n",
    "            mod_zh=0\n",
    "        if zh >= mod_zh:\n",
    "            if float_equal(zh,mod_zh):\n",
    "                if epoch_loss<bestMod.loss:\n",
    "                    bestMod.update(\n",
    "                        acc=accuracy,\n",
    "                        model=model,\n",
    "                        loss=epoch_loss,\n",
    "                        precision=precision,\n",
    "                        recall=recall,\n",
    "                        ap=ap,\n",
    "                        # f1=f1,\n",
    "                        epoch=epoch,\n",
    "                    )\n",
    "            else:\n",
    "                bestMod.update(\n",
    "                        acc=accuracy,\n",
    "                        model=model,\n",
    "                        loss=epoch_loss,\n",
    "                        # f1=f1,\n",
    "                        precision=precision,\n",
    "                        recall=recall,\n",
    "                        epoch=epoch,\n",
    "                        ap=ap\n",
    "                    )\n",
    "        print(f'Epoch {epoch + 1}/{num_epochs}, Loss: {running_loss / len(train_loader)},  Val Accuracy: {accuracy}, AP:{ap} ,Precision:{precision}, Recall:{recall}')\n",
    "        print(f\"当前最好的模型： {str(bestMod)}\")\n",
    "    train_logs.update(\n",
    "        train_loss_lst=train_loss_lst,\n",
    "        val_acc_lst=val_acc_lst,\n",
    "        precision_lst=precision_lst,\n",
    "        recall_lst=recall_lst,\n",
    "        f1_lst=f1_lst,\n",
    "        ap_lst=ap_lst,\n",
    "    )\n",
    "    return bestMod,train_logs\n",
    "\n",
    "\n"
   ]
  },
  {
   "cell_type": "code",
   "execution_count": 47,
   "metadata": {},
   "outputs": [
    {
     "name": "stdout",
     "output_type": "stream",
     "text": [
      "dataset_sep : [1, 0, 0] \n",
      "resize_size : 128 \n",
      "batch_size : 32 \n",
      "lr : 0.001 \n",
      "epochs : 20 \n",
      "hidden_size : 256 \n",
      "optim : Adam \n",
      "momentum : 0.9 \n",
      "weight_decay : 0.0001 \n",
      "seed : 42 \n",
      "mean : [0.50638, 0.49962538, 0.45205265] \n",
      "std : [0.23568255, 0.24141274, 0.25167742] \n",
      "source_dir : data\\lfw \n",
      "data_path : data\\lfw_split \n",
      "classes : ['Aaron_Eckhart', 'Aaron_Guiel', 'Aaron_Patterson', 'Aaron_Peirsol', 'Aaron_Pena', 'Aaron_Sorkin', 'Aaron_Tippin', 'Abbas_Kiarostami', 'Abba_Eban', 'Abdel_Aziz_Al-Hakim', 'Abdel_Madi_Shabneh', 'Abdel_Nasser_Assidi', 'Abdoulaye_Wade', 'Abdulaziz_Kamilov', 'Abdullah', 'Abdullah_Ahmad_Badawi', 'Abdullah_al-Attiyah', 'Abdullah_Gul', 'Abdullah_Nasseef', 'Abdullatif_Sener', 'Abdul_Majeed_Shobokshi', 'Abdul_Rahman', 'Abel_Aguilar', 'Abel_Pacheco', 'Abid_Hamid_Mahmud_Al-Tikriti', 'Abner_Martinez', 'Abraham_Foxman', 'Aby_Har-Even', 'Adam_Ant', 'Adam_Freier', 'Adam_Herbert', 'Adam_Kennedy', 'Adam_Mair', 'Adam_Rich', 'Adam_Sandler', 'Adam_Scott', 'Adelina_Avila', 'Adel_Al-Jubeir', 'Adisai_Bodharamik', 'Adolfo_Aguilar_Zinser', 'Adolfo_Rodriguez_Saa', 'Adoor_Gopalakarishnan', 'Adriana_Lima', 'Adriana_Perez_Navarro', 'Adrianna_Zuzic', 'Adrian_Annus', 'Adrian_Fernandez', 'Adrian_McPherson', 'Adrian_Murrell', 'Adrian_Nastase', 'Adrien_Brody', 'Afton_Smith', 'Agbani_Darego', 'Agnelo_Queiroz', 'Agnes_Bruckner', 'Ahmad_Jbarah', 'Ahmad_Masood', 'Ahmed_Ahmed', 'Ahmed_Chalabi', 'Ahmed_Ghazi', 'Ahmed_Ibrahim_Bilal', 'Ahmed_Lopez', 'Ahmed_Qureia', 'Ahmet_Demir', 'Ahmet_Necdet_Sezer', 'Aicha_El_Ouafi', 'Aidan_Quinn', 'Aileen_Riggin_Soule', 'Ainsworth_Dyer', 'Ain_Seppik', 'Aishwarya_Rai', 'Aitor_Gonzalez', 'Aiysha_Smith', 'Ai_Sugiyama', 'Ajit_Agarkar', 'AJ_Cook', 'AJ_Lamas', 'Akbar_Al_Baker', 'Akbar_Hashemi_Rafsanjani', 'Akhmed_Zakayev', 'Akiko_Morigami', 'Akmal_Taher', 'Alain_Cervantes', 'Alain_Ducasse', 'Alanis_Morissette', 'Alanna_Ubach', 'Alan_Ball', 'Alan_Dershowitz', 'Alan_Dreher', 'Alan_Greenspan', 'Alan_Greer', 'Alan_Jackson', 'Alan_Mulally', 'Alan_Stonecipher', 'Alan_Tang_Kwong-wing', 'Alan_Trammell', 'Alan_Zemaitis', 'Alastair_Campbell', 'Alastair_Johnston', 'Albaro_Recoba', 'Alberta_Lee', 'Alberto_Acosta', 'Alberto_Fujimori', 'Alberto_Gonzales', 'Alberto_Ruiz_Gallardon', 'Alberto_Sordi', 'Albert_Brooks', 'Albert_Costa', 'Albert_Montanes', 'Albert_Pujols', 'Albrecht_Mentz', 'Aldo_Paredes', 'Alecos_Markides', 'Alec_Baldwin', 'Alejandro_Atchugarry', 'Alejandro_Avila', 'Alejandro_Fernandez', 'Alejandro_Gonzalez_Inarritu', 'Alejandro_Lembo', 'Alejandro_Lerner', 'Alejandro_Lopez', 'Alejandro_Toledo', 'Aleksander_Kwasniewski', 'Aleksander_Voloshin', 'Alek_Wek', 'Alessandra_Cerna', 'Alessandro_Nesta', 'Alexander_Downer', 'Alexander_Losyukov', 'Alexander_Lukashenko', 'Alexander_Payne', 'Alexander_Rumyantsev', 'Alexandra_Jackson', 'Alexandra_Pelosi', 'Alexandra_Rozovskaya', 'Alexandra_Spann', 'Alexandra_Stevenson', 'Alexandra_Vodjanikova', 'Alexandre_Daigle', 'Alexandre_Despatie', 'Alexandre_Herchcovitch', 'Alexandre_Vinokourov', 'Alexa_Loren', 'Alexa_Vega', 'Alexis_Bledel', 'Alexis_Dennisoff', 'Alex_Barros', 'Alex_Cabrera', 'Alex_Cejka', 'Alex_Corretja', 'Alex_Ferguson', 'Alex_Gonzalez', 'Alex_Holmes', 'Alex_King', 'Alex_Penelas', 'Alex_Popov', 'Alex_Sink', 'Alex_Wallau', 'Alex_Zanardi', 'Alfonso_Cuaron', 'Alfonso_Portillo', 'Alfonso_Soriano', 'Alfredo_di_Stefano', 'Alfredo_Moreno', 'Alfredo_Pena', 'Alfred_Ford', 'Alfred_Sant', 'Alice_Fisher', 'Alicia_Hollowell', 'Alicia_Keys', 'Alicia_Molik', 'Alicia_Silverstone', 'Alicia_Witt', 'Alimzhan_Tokhtakhounov', 'Alina_Kabaeva', 'Aline_Chretien', 'Alisha_Richman', 'Alison_Krauss', 'Alison_Lohman', 'Alistair_MacDonald', 'Ali_Abbas', 'Ali_Abdullah_Saleh', 'Ali_Adbul_Karim_Madani', 'Ali_Ahmeti', 'Ali_Bin_Hussein', 'Ali_Fallahian', 'Ali_Hammoud', 'Ali_Khamenei', 'Ali_Mohammed_Maher', 'Ali_Naimi', 'Allan_Houston', 'Allan_Kemakeza', 'Allan_Wagner', 'Allen_Iverson', 'Allen_Rock', 'Allison_Janney', 'Allison_Searing', 'Allyson_Felix', 'Ally_Sheedy', 'Alma_Powell', 'Almeida_Baptista', 'Alonzo_Mourning', 'Alvaro_Noboa', 'Alvaro_Silva_Calderon', 'Alvaro_Uribe', 'Alyse_Beaupre', 'Alyson_Hannigan', 'Aly_Wagner', 'Al_Cardenas', 'Al_Davis', 'Al_Gore', 'Al_Leiter', 'Al_Pacino', 'Al_Sharpton', 'Amanda_Beard', 'Amanda_Bynes', 'Amanda_Coetzer', 'Amanda_Marsh', 'Amanda_Plumer', 'Amber_Frey', 'Amber_Tamblyn', 'Ambrose_Lee', 'Amelia_Vega', 'Amelie_Mauresmo', 'Amer_al-Saadi', 'Amporn_Falise', 'Amram_Mitzna', 'Amr_Moussa', 'Amy_Brenneman', 'Amy_Cotton', 'Amy_Gale', 'Amy_Pascal', 'Amy_Redford', 'Amy_Smart', 'Amy_Yasbeck', 'Anastasia_Kelesidou', 'Anastasia_Myskina', 'Anatoliy_Kinakh', 'Ana_Claudia_Talancon', 'Ana_Guevara', 'Ana_Isabel_Sanchez', 'Ana_Palacio', 'Ana_Paula_Gerard', 'Ana_Sebastiao', 'Anderson_Varejao', 'Anders_Ebbeson', 'Anders_Fogh_Rasmussen', 'Andreas_Vinciguerra', 'Andrea_Bocelli', 'Andrea_De_Cruz', 'Andrea_Kiser', 'Andrea_Yates', 'Andrei_Konchalovsky', 'Andrei_Mikhnevich', 'Andrei_Nikolishin', 'Andres_DAlessandro', 'Andres_Manuel_Lopez_Obrador', 'Andres_Pastrana', 'Andrew_Bernard', 'Andrew_Bunner', 'Andrew_Caldecott', 'Andrew_Cuomo', 'Andrew_Fastow', 'Andrew_Firestone', 'Andrew_Gilligan', 'Andrew_Jarecki', 'Andrew_Luster', 'Andrew_Niccol', 'Andrew_Sabey', 'Andrew_Shutley', 'Andrew_Weissmann', 'Andrew_Wetzler', 'Andre_Agassi', 'Andre_Bucher', 'Andre_Lange', 'Andre_Smith', 'Andre_Techine', 'Andrzej_Tyszkiewicz', 'Andy_Benes', 'Andy_Bryant', 'Andy_Dick', 'Andy_Garcia', 'Andy_Graves', 'Andy_Griffith', 'Andy_Griggs', 'Andy_Hebb', 'Andy_Lau', 'Andy_Madikians', 'Andy_North', 'Andy_Perez', 'Andy_Roddick', 'Andy_Rooney', 'Andy_Warhol', 'Andy_Wisecarver', 'Anette_Hosoi', 'AnFernce_Negron', 'Angela_Alvarado_Rosa', 'Angela_Bassett', 'Angela_Lansbury', 'Angela_Mascia-Frye', 'Angela_Merkel', 'Angelica_Romero', 'Angelina_Jolie', 'Angelo_Genova', 'Angelo_Reyes', 'Angel_Lockward', 'Angel_Maza', 'Angie_Arzola', 'Angie_Martinez', 'Anibal_Ibarra', 'Anil_Ramsook', 'Anita_DeFrantz', 'Anja_Paerson', 'Anjum_Hussain', 'Anna_Chicherova', 'Anna_Faris', 'Anna_Jones', 'Anna_Kournikova', 'Anna_Nicole_Smith', 'Anneli_Jaatteenmaki', 'Annette_Bening', 'Annette_Lu', 'Anne_Cavers', 'Anne_Donovan', 'Anne_Heche', 'Anne_Krueger', 'Anne_McLellan', 'Anne_ONeil', 'Annie-Jeanne_Reynaud', 'Annie_Chaplin', 'Annie_Machon', 'Annika_Sorenstam', 'Ann_Godbehere', 'Ann_Landers', 'Ann_Morgan', 'Ann_Veneman', 'Antanas_Valionis', 'Anthony_Carter', 'Anthony_Corso', 'Anthony_Ervin', 'Anthony_Fauci', 'Anthony_Garotinho', 'Anthony_Hazen', 'Anthony_Hopkins', 'Anthony_LaPaglia', 'Anthony_Lee_Johnson', 'Anthony_Mazur', 'Anthony_Pico', 'Anthony_Pisciotti', 'Anthony_Principi', 'Anthony_Rackauckas', 'Anthony_Scott_Miller', 'Antje_Buschschulte', 'Antonio_Banderas', 'Antonio_Bernardo', 'Antonio_Cassano', 'Antonio_Catania', 'Antonio_Elias_Saca', 'Antonio_Palocci', 'Antonio_Trillanes', 'Antony_Leung', 'Anton_Balasingham', 'Antwun_Echols', 'Anwar_Ibrahim', 'Anzori_Kikalishvili', 'Aparna_Pillai', 'Aram_Adler', 'Arantxa_Sanchez-Vicario', 'Aretha_Franklin', 'Arianna_Huffington', 'Ariel_Sharon', 'Arie_Haan', 'Arif_Mardin', 'Ari_Bousbib', 'Ari_Fleischer', 'Arlen_Specter', 'Armando_Avila_Panchame', 'Armando_Calderon_Sol', 'Armando_Carrillo', 'Armand_Sargen', 'Arminio_Fraga', 'Arnaud_Clement', 'Arnaud_Lagardere', 'Arnie_Boehm', 'Arnoldo_Aleman', 'Arnold_Palmer', 'Arnold_Schwarzenegger', 'Arnold_Scott', 'Aron_Ralston', 'Arsinee_Khanjian', 'Arthur_Johnson', 'Arthur_Martinez', 'Artieas_Shanks', 'Arturo_Gatti', 'Art_Cooper', 'Art_Hoffmann', 'Art_Howe', 'Art_Lopez', 'Arye_Mekel', 'Asa_Hutchinson', 'Ascencion_Barajas', 'Ashanti', 'Ashlea_Talbot', 'Ashley_Judd', 'Ashley_Olsen', 'Ashley_Postell', 'Ashraf_Alasmar', 'Ashraf_Ghani', 'Ashton_Kutcher', 'Asif_Ali_Zardari', 'Asif_Hanif', 'Askar_Akayev', 'Asmaa_Assad', 'Assad_Ahmadi', 'Astou_Ndiaye-Diatta', 'Astrid_Betancourt', 'Astrid_Eyzaguirre', 'Atal_Bihari_Vajpayee', 'Ataollah_Mohajerani', 'Atiabet_Ijan_Amabel', 'Atom_Egoyan', 'Atsushi_Sato', 'Audrey_Lacroix', 'Audrey_Sauret', 'Augustin_Calleri', 'Augusto_Pinochet', 'Augusto_Roa_Bastos', 'Aung_San_Suu_Kyi', 'Austin_Kearns', 'Avril_Lavigne', 'Azmi_Bishara', 'Azra_Akin', 'Babe_Ruth', 'Baburam_Bhattari', 'Bak_Chang-Ryun', 'Barbara_Bach', 'Barbara_Becker', 'Barbara_Bodine', 'Barbara_Boxer', 'Barbara_Brezigar', 'Barbara_De_Brun', 'Barbara_Esbin', 'Barbara_Felt-Miller', 'Barbara_Roberts', 'Barbara_Walters', 'Barbora_Strycova', 'Barbra_Streisand', 'Barrett_Jackman', 'Barry_Alvarez', 'Barry_Bonds', 'Barry_Collier', 'Barry_Diller', 'Barry_Ford', 'Barry_Hinson', 'Barry_Nakell', 'Barry_Switzer', 'Barry_Williams', 'Barry_Zito', 'Bartosz_Kizierowski', 'Bart_Freundlich', 'Bart_Hendricks', 'Barzan_al-Tikriti', 'Basdeo_Panday', 'Bashar_Assad', 'Baz_Luhrmann', 'BB_King', 'Beatrice_Dalle', 'Beatriz_Merino', 'Beecher_Ray_Kirby', 'Begum_Khaleda_Zia', 'Bela_Karolyi', 'Benazir_Bhutto', 'Benedita_da_Silva', 'Benicio_Del_Toro', 'Benito_Santiago', 'Benjamin_Bratt', 'Benjamin_Franklin', 'Benjamin_Martinez', 'Benjamin_McKenzie', 'Benjamin_Netanyahu', 'Benjamin_Neulander', 'Ben_Affleck', 'Ben_Betts', 'Ben_Braun', 'Ben_Broussard', 'Ben_Cahoon', 'Ben_Chandler', 'Ben_Cohen', 'Ben_Curtis', 'Ben_Davis', 'Ben_Glisan', 'Ben_Howland', 'Ben_Kingsley', 'Ben_Lee', 'Ben_Stein', 'Ben_Wallace', 'Bernadette_Peters', 'Bernardo_Segura', 'Bernard_Ebbers', 'Bernard_Giraudeau', 'Bernard_Kerik', 'Bernard_Landry', 'Bernard_Law', 'Bernard_Lord', 'Bernard_Siegel', 'Bernice_Wong', 'Bertie_Ahern', 'Bertrand_Bonello', 'Bertrand_Delanoe', 'Beth_Blough', 'Beth_Jones', 'Betsy_Coffin', 'Betsy_Smith', 'Bettina_Rheims', 'Betty_Garrison', 'Betty_Williams', 'Beyonce_Knowles', 'Bianca_Jagger', 'Bijan_Darvish', 'Bijan_Namdar_Zangeneh', 'Bilal_Erdogan', 'Biljana_Plavsic', 'Billy_Andrade', 'Billy_Beane', 'Billy_Bob_Thornton', 'Billy_Boyd', 'Billy_Crawford', 'Billy_Crystal', 'Billy_Donovan', 'Billy_Edelin', 'Billy_Gilman', 'Billy_Graham', 'Billy_Joel', 'Billy_Rork', 'Billy_Sollie', 'Billy_Tibbets', 'Bill_Belichick', 'Bill_Bradley', 'Bill_Butler', 'Bill_Byrne', 'Bill_Callahan', 'Bill_Carmody', 'Bill_Cartwright', 'Bill_Clancy', 'Bill_Clinton', 'Bill_Curry', 'Bill_Doba', 'Bill_Duffey', 'Bill_Elliott', 'Bill_Fennelly', 'Bill_Frist', 'Bill_Gates', 'Bill_Graham', 'Bill_Guerin', 'Bill_Herrion', 'Bill_Hughes', 'Bill_King', 'Bill_Kollar', 'Bill_Kong', 'Bill_Lerach', 'Bill_Maher', 'Bill_Mauldin', 'Bill_McBride', 'Bill_Nelson', 'Bill_OReilly', 'Bill_Parcells', 'Bill_Parsons', 'Bill_Paxton', 'Bill_Pryor', 'Bill_Rainer', 'Bill_Readdy', 'Bill_Richardson', 'Bill_Self', 'Bill_Simon', 'Bill_Sizemore', 'Bill_Stapleton', 'Bill_Stein', 'Bill_Walton', 'Bing_Crosby', 'Binyamin_Ben-Eliezer', 'Bison_Dele', 'Bixente_LIzarazu', 'BJ_Habibie', 'Blas_Ople', 'Blythe_Danner', 'Blythe_Hartley', 'Bobby_Bowden', 'Bobby_Goldwater', 'Bobby_Jackson', 'Bobby_Kielty', 'Bobby_Robson', 'Bobo_Balde', 'Bob_Alper', 'Bob_Beauprez', 'Bob_Bowlsby', 'Bob_Cantrell', 'Bob_Colvin', 'Bob_Crippen', 'Bob_Curtis', 'Bob_Dole', 'Bob_Eskridge', 'Bob_Ferguson', 'Bob_Geldof', 'Bob_Goldman', 'Bob_Graham', 'Bob_Guccione', 'Bob_Hartley', 'Bob_Hayes', 'Bob_Herz', 'Bob_Holden', 'Bob_Hope', 'Bob_Huggins', 'Bob_Iger', 'Bob_Krueger', 'Bob_Melvin', 'Bob_Menendez', 'Bob_Newhart', 'Bob_Petrino', 'Bob_Riley', 'Bob_Stoops', 'Bob_Sulkin', 'Bob_Taft', 'Bob_Wright', 'Bode_Miller', 'Bonnie_Fuller', 'Bonnie_Hunt', 'Bono', 'Boris_Becker', 'Boris_Berezovsky', 'Boris_Henry', 'Boris_Jordan', 'Boris_Trajkovski', 'Boris_Yeltsin', 'Boutros_Boutros_Ghali', 'Bo_Pelini', 'Bo_Ryan', 'Brady_Rodgers', 'Brad_Alexander_Smith', 'Brad_Banks', 'Brad_Brownell', 'Brad_Garrett', 'Brad_Gushue', 'Brad_Johnson', 'Brad_Miller', 'Brad_Pitt', 'Brad_Russ', 'Brad_Smith', 'Brad_Wilk', 'Brajesh_Mishra', 'Brandon_Boyd', 'Brandon_Fails', 'Brandon_Hammond', 'Brandon_Inge', 'Brandon_Jones', 'Brandon_Knight', 'Brandon_Larson', 'Brandon_Lloyd', 'Brandon_Robinson', 'Brandon_Spann', 'Brandon_Webb', 'Branko_Crvenkovski', 'Brawley_King', 'Brendan_Fraser', 'Brendan_Gaughan', 'Brendan_Hansen', 'Brendan_Stai', 'Brenda_Magana', 'Brenda_van_Dam', 'Brenda_Wilson', 'Brennon_Leighton', 'Brent_Coles', 'Brett_Boone', 'Brett_Hawke', 'Brett_Hull', 'Brett_Perry', 'Brian_Billick', 'Brian_Campbell', 'Brian_Cashman', 'Brian_Clemens', 'Brian_Cook', 'Brian_Cowen', 'Brian_De_Palma', 'Brian_Florence', 'Brian_Grazier', 'Brian_Gregory', 'Brian_Griese', 'Brian_Heidik', 'Brian_Henson', 'Brian_Jordan', 'Brian_Kerr', 'Brian_Lara', 'Brian_McIntyre', 'Brian_Meadors', 'Brian_Mulroney', 'Brian_Olson', 'Brian_Pavlich', 'Brian_Scalabrine', 'Brian_Schneider', 'Brian_StPierre', 'Brian_Van_Dusen', 'Brian_Weaver', 'Brian_Wells', 'Brian_Williams', 'Bridgette_Wilson-Sampras', 'Bridget_Fonda', 'Brigitte_Boisselier', 'Britney_Spears', 'Brittany_Snow', 'Brock_Berlin', 'Bronson_Arroyo', 'Brooke_Adams', 'Brooke_Gordon', 'Brooke_Shields', 'Brook_Robinson', 'Bruce_Arena', 'Bruce_Gebhardt', 'Bruce_Lunsford', 'Bruce_Paltrow', 'Bruce_Springsteen', 'Bruce_Van_De_Velde', 'Bruce_Weber', 'Bruce_Willis', 'Bruna_Colosio', 'Bruno_Junquiera', 'Bryant_Young', 'Bryan_Adams', 'Bryan_Chui', 'Bryan_Cooley', 'Bryan_Murray', 'Bryan_Thomas', 'Bryce_Carmine', 'Buck_Rodgers', 'Buddy_Ryan', 'Budd_Schulberg', 'Bud_Selig', 'Buford_Blount', 'Bulent_Ecevit', 'Bustam_A_Zedan_Aljanabi', 'Butch_Davis', 'Buzz_Hargrove', 'Byron_Scott', 'Cabas', 'Caio_Blat', 'Calbert_Cheaney', 'Calista_Flockhart', 'Calvin_Harrison', 'Calvin_Joseph_Coleman', 'Cameron_Diaz', 'Camilla_Parker_Bowles', 'Camille_Colvin', 'Camille_Lewis', 'Camryn_Manheim', 'Candace_Sutton', 'Candice_Beatty', 'Candice_Bergen', 'Candie_Kung', 'Carey_Lowell', 'Carina_Lau_Ka-ling', 'Carin_Koch', 'Cari_Davis', 'Carla_Del_Ponte', 'Carla_Gay_Balingit', 'Carla_Gugino', 'Carla_Moreno', 'Carla_Myers', 'Carla_Sullivan', 'Carla_Tricoli', 'Carlos_Alberto', 'Carlos_Alberto_Parreira', 'Carlos_Arroyo', 'Carlos_Barra', 'Carlos_Barragan', 'Carlos_Beltran', 'Carlos_Bianchi', 'Carlos_De_Abreu', 'Carlos_Fasciolo', 'Carlos_Ghosn', 'Carlos_Iturgaitz', 'Carlos_Juarez', 'Carlos_Lordkipanitse', 'Carlos_Manuel_Pruneda', 'Carlos_Menem', 'Carlos_Mesa', 'Carlos_Moya', 'Carlos_Ortega', 'Carlos_Paternina', 'Carlos_Queiroz', 'Carlos_Quintanilla_Schmidt', 'Carlos_Ruckauf', 'Carlos_Ruiz', 'Carlos_Salinas', 'Carlos_Savedra', 'Carlos_Vives', 'Carlo_Ancelotti', 'Carlo_Azeglio_Ciampi', 'Carlton_Baugh', 'Carlton_Dotson', 'Carly_Fiorina', 'Carly_Gullickson', 'Carl_Levin', 'Carl_Pope', 'Carl_Reiner', 'Carmen_Electra', 'Carolina_Barco', 'Carolina_Kluft', 'Carolina_Moraes', 'Caroline_Dhavernas', 'Caroline_Kennedy', 'Caroline_Link', 'Carolyn_Dawn_Johnson', 'Carolyn_Kuhl', 'Carol_Burnett', 'Carol_Carmody', 'Carol_Moseley_Braun', 'Carol_Niedermayer', 'Carol_Williams', 'Carrie-Anne_Moss', 'Carroll_Weimer', 'Carson_Daly', 'Carson_Palmer', 'Casey_Crowder', 'Casey_Mears', 'Cassandra_Heise', 'Cass_Ballenger', 'Casy_Preslar', 'Cate_Blanchett', 'Catherine_Bell', 'Catherine_Deneuve', 'Catherine_Donkers', 'Catherine_Ndereba', 'Catherine_Woodard', 'Catherine_Zeta-Jones', 'Cathryn_Crawford', 'Cathy_Chisholm', 'Cathy_Cunningham', 'Cathy_Freeman', 'Catriona_Le_May_Doan', 'Cecile_de_France', 'Cecilia_Bolocco', 'Cecilia_Chang', 'Cecilia_Cheung', 'Cedric_Benson', 'Celia_Cruz', 'Celine_Dion', 'Celso_Amorim', 'Celso_Lafer', 'Cemil_Cicek', 'Cesar_Gaviria', 'Cesar_Maia', 'Chadha_Gurinder', 'Chakib_Khelil', 'Chance_Mock', 'Chanda_Rubin', 'Chandrika_Kumaratunga', 'Chang_Dae-whan', 'Chang_Jae_On', 'Chang_Saio-yue', 'Chang_Sang', 'Chang_Tso', 'Chante_Jawan_Mallard', 'Chan_Choi', 'Chan_Gailey', 'Chan_Ho_Park', 'Charla_Moye', 'Charlene_Barshefsky', 'Charles_Bell', 'Charles_Bronson', 'Charles_Chandler_IV', 'Charles_Cope', 'Charles_Grassley', 'Charles_Holzner', 'Charles_Ingram', 'Charles_Kartman', 'Charles_Lebois', 'Charles_Mathews', 'Charles_Moose', 'Charles_Pickering', 'Charles_Pouty', 'Charles_Richardson', 'Charles_Rogers', 'Charles_Schumer', 'Charles_Tannok', 'Charles_Taylor', 'Charley_Armey', 'Charlie_Coles', 'Charlie_Deane', 'Charlie_Garner', 'Charlie_Hunnam', 'Charlie_Sheen', 'Charlie_Williams', 'Charlie_Zaa', 'Charlize_Theron', 'Charlotte_Casiraghi', 'Charlotte_Chambers', 'Charlotte_Church', 'Charlotte_Rampling', 'Charlton_Heston', 'Charmaine_Crooks', 'Chawki_Armali', 'Cha_Yung-gu', 'Chea_Sophara', 'Chelsea_Clinton', 'Chen_Kaige', 'Chen_Liang_Yu', 'Chen_Shui-bian', 'Chen_Tsai-chin', 'Cherie_Blair', 'Cherry_Jones', 'Cheryl_Ford', 'Cheryl_Hines', 'Cheryl_James', 'Cheryl_Little', 'Cheryl_Tiegs', 'Chhouk_Rin', 'Chick_Hearn', 'Chin-Feng_Chen', 'Chin-Hui_Tsao', 'Chip_Burrus', 'Chip_Ganassi', 'Chip_Knight', 'Chistian_Stahl', 'Chita_Rivera', 'Chloe_Sevigny', 'Choi_Sung-hong', 'Choi_Yun-yong', 'Chok_Tong_Goh', 'Cho_Myung-kyun', 'Christiane_Wulff', 'Christian_Bale', 'Christian_Fittipaldi', 'Christian_Gimenez', 'Christian_Lacroix', 'Christian_Lirette', 'Christian_Longo', 'Christian_Malcolm', 'Christian_Olsson', 'Christian_Patino', 'Christian_Von_Wernich', 'Christian_Wulff', 'Christina_Aguilera', 'Christina_Sawaya', 'Christine_Arron', 'Christine_Baumgartner', 'Christine_Ebersole', 'Christine_Gregoire', 'Christine_Rau', 'Christine_Todd_Whitman', 'Christopher_Amolsch', 'Christopher_Conyers', 'Christopher_Matero', 'Christopher_Patten', 'Christopher_Reeve', 'Christopher_Russell', 'Christopher_Speer', 'Christopher_Walken', 'Christopher_Whittle', 'Christoph_Daum', 'Christy_Ferer', 'Christy_Turlington', 'Chris_Andrews', 'Chris_Bell', 'Chris_Byrd', 'Chris_Cirino', 'Chris_Claiborne', 'Chris_Columbus', 'Chris_Cookson', 'Chris_Cooper', 'Chris_Cornell', 'Chris_Crocker', 'Chris_Dodd', 'Chris_Forsyth', 'Chris_Gratton', 'Chris_Hernandez', 'Chris_Klein', 'Chris_Kolanas', 'Chris_Matthews', 'Chris_Moore', 'Chris_Neil', 'Chris_Noth', 'Chris_Penn', 'Chris_Pronger', 'Chris_Reitsma', 'Chris_Rock', 'Chris_Simon', 'Chris_Swecker', 'Chris_Terry', 'Chris_Thomas', 'Chris_Tucker', 'Chris_Whitney', 'Chuanyun_Li', 'Chuck_Amato', 'Chuck_Bednarik', 'Chuck_Eidson', 'Chuck_Finley', 'Chuck_Hagel', 'Chuck_Woolery', 'Chuck_Yeager', 'Chung_Mong-hun', 'Chung_Mong-joon', 'Chyung_Dai-chul'] \n",
      "datasize : 1000 \n",
      "device : cuda \n"
     ]
    }
   ],
   "source": [
    "config.update(\n",
    "        epochs=20\n",
    "    )\n",
    "print(config)"
   ]
  },
  {
   "cell_type": "code",
   "execution_count": 48,
   "metadata": {},
   "outputs": [
    {
     "name": "stderr",
     "output_type": "stream",
     "text": [
      "  0%|          | 0/20 [00:02<?, ?it/s]\n"
     ]
    },
    {
     "ename": "OutOfMemoryError",
     "evalue": "CUDA out of memory. Tried to allocate 22.00 MiB (GPU 0; 6.00 GiB total capacity; 5.06 GiB already allocated; 0 bytes free; 5.33 GiB reserved in total by PyTorch) If reserved memory is >> allocated memory try setting max_split_size_mb to avoid fragmentation.  See documentation for Memory Management and PYTORCH_CUDA_ALLOC_CONF",
     "output_type": "error",
     "traceback": [
      "\u001b[1;31m---------------------------------------------------------------------------\u001b[0m",
      "\u001b[1;31mOutOfMemoryError\u001b[0m                          Traceback (most recent call last)",
      "Cell \u001b[1;32mIn[48], line 14\u001b[0m\n\u001b[0;32m     11\u001b[0m \u001b[38;5;28;01melse\u001b[39;00m:\n\u001b[0;32m     12\u001b[0m     optimizer \u001b[38;5;241m=\u001b[39m optim\u001b[38;5;241m.\u001b[39mSGD(resnet_model\u001b[38;5;241m.\u001b[39mparameters(), lr\u001b[38;5;241m=\u001b[39mconfig\u001b[38;5;241m.\u001b[39mlr, momentum\u001b[38;5;241m=\u001b[39m\u001b[38;5;241m0.9\u001b[39m, weight_decay\u001b[38;5;241m=\u001b[39m\u001b[38;5;241m1e-4\u001b[39m)\n\u001b[1;32m---> 14\u001b[0m bestMod,train_logs\u001b[38;5;241m=\u001b[39m\u001b[43mtrain_model\u001b[49m\u001b[43m(\u001b[49m\n\u001b[0;32m     15\u001b[0m \u001b[43m            \u001b[49m\u001b[43mresnet_model\u001b[49m\u001b[43m,\u001b[49m\u001b[43m \u001b[49m\n\u001b[0;32m     16\u001b[0m \u001b[43m            \u001b[49m\u001b[43mcriterion\u001b[49m\u001b[43m,\u001b[49m\n\u001b[0;32m     17\u001b[0m \u001b[43m            \u001b[49m\u001b[43moptimizer\u001b[49m\u001b[43m,\u001b[49m\u001b[43m \u001b[49m\n\u001b[0;32m     18\u001b[0m \u001b[43m            \u001b[49m\u001b[43mtrain_loader\u001b[49m\u001b[43m,\u001b[49m\n\u001b[0;32m     19\u001b[0m \u001b[43m            \u001b[49m\u001b[43mval_loader\u001b[49m\u001b[43m,\u001b[49m\n\u001b[0;32m     20\u001b[0m \u001b[43m            \u001b[49m\u001b[43mbestMod\u001b[49m\u001b[38;5;241;43m=\u001b[39;49m\u001b[43mbestMod\u001b[49m\u001b[43m,\u001b[49m\n\u001b[0;32m     21\u001b[0m \u001b[43m            \u001b[49m\u001b[43mtrain_logs\u001b[49m\u001b[38;5;241;43m=\u001b[39;49m\u001b[43mtrain_logs\u001b[49m\u001b[43m,\u001b[49m\n\u001b[0;32m     22\u001b[0m \u001b[43m            \u001b[49m\u001b[43mnum_epochs\u001b[49m\u001b[38;5;241;43m=\u001b[39;49m\u001b[43mconfig\u001b[49m\u001b[38;5;241;43m.\u001b[39;49m\u001b[43mepochs\u001b[49m\n\u001b[0;32m     23\u001b[0m \u001b[43m        \u001b[49m\u001b[43m)\u001b[49m\n",
      "Cell \u001b[1;32mIn[46], line 24\u001b[0m, in \u001b[0;36mtrain_model\u001b[1;34m(model, criterion, optimizer, train_loader, val_loader, bestMod, train_logs, num_epochs)\u001b[0m\n\u001b[0;32m     22\u001b[0m labels\u001b[38;5;241m=\u001b[39mlabels\u001b[38;5;241m.\u001b[39mto(config\u001b[38;5;241m.\u001b[39mdevice)\n\u001b[0;32m     23\u001b[0m optimizer\u001b[38;5;241m.\u001b[39mzero_grad()\n\u001b[1;32m---> 24\u001b[0m outputs \u001b[38;5;241m=\u001b[39m \u001b[43mmodel\u001b[49m\u001b[43m(\u001b[49m\u001b[43minputs\u001b[49m\u001b[43m)\u001b[49m\n\u001b[0;32m     25\u001b[0m loss \u001b[38;5;241m=\u001b[39m criterion(outputs, labels)\n\u001b[0;32m     26\u001b[0m loss\u001b[38;5;241m.\u001b[39mbackward()\n",
      "File \u001b[1;32me:\\Anaconda3\\envs\\sound\\lib\\site-packages\\torch\\nn\\modules\\module.py:1501\u001b[0m, in \u001b[0;36mModule._call_impl\u001b[1;34m(self, *args, **kwargs)\u001b[0m\n\u001b[0;32m   1496\u001b[0m \u001b[38;5;66;03m# If we don't have any hooks, we want to skip the rest of the logic in\u001b[39;00m\n\u001b[0;32m   1497\u001b[0m \u001b[38;5;66;03m# this function, and just call forward.\u001b[39;00m\n\u001b[0;32m   1498\u001b[0m \u001b[38;5;28;01mif\u001b[39;00m \u001b[38;5;129;01mnot\u001b[39;00m (\u001b[38;5;28mself\u001b[39m\u001b[38;5;241m.\u001b[39m_backward_hooks \u001b[38;5;129;01mor\u001b[39;00m \u001b[38;5;28mself\u001b[39m\u001b[38;5;241m.\u001b[39m_backward_pre_hooks \u001b[38;5;129;01mor\u001b[39;00m \u001b[38;5;28mself\u001b[39m\u001b[38;5;241m.\u001b[39m_forward_hooks \u001b[38;5;129;01mor\u001b[39;00m \u001b[38;5;28mself\u001b[39m\u001b[38;5;241m.\u001b[39m_forward_pre_hooks\n\u001b[0;32m   1499\u001b[0m         \u001b[38;5;129;01mor\u001b[39;00m _global_backward_pre_hooks \u001b[38;5;129;01mor\u001b[39;00m _global_backward_hooks\n\u001b[0;32m   1500\u001b[0m         \u001b[38;5;129;01mor\u001b[39;00m _global_forward_hooks \u001b[38;5;129;01mor\u001b[39;00m _global_forward_pre_hooks):\n\u001b[1;32m-> 1501\u001b[0m     \u001b[38;5;28;01mreturn\u001b[39;00m forward_call(\u001b[38;5;241m*\u001b[39margs, \u001b[38;5;241m*\u001b[39m\u001b[38;5;241m*\u001b[39mkwargs)\n\u001b[0;32m   1502\u001b[0m \u001b[38;5;66;03m# Do not call functions when jit is used\u001b[39;00m\n\u001b[0;32m   1503\u001b[0m full_backward_hooks, non_full_backward_hooks \u001b[38;5;241m=\u001b[39m [], []\n",
      "File \u001b[1;32md:\\Desktop\\深度学习\\11.大三下课设\\人脸识别\\utils\\net.py:169\u001b[0m, in \u001b[0;36mCustomEfficientNet_b1.forward\u001b[1;34m(self, x)\u001b[0m\n\u001b[0;32m    167\u001b[0m \u001b[38;5;28;01mdef\u001b[39;00m \u001b[38;5;21mforward\u001b[39m(\u001b[38;5;28mself\u001b[39m, x):\n\u001b[0;32m    168\u001b[0m     \u001b[38;5;66;03m# Extract features using EfficientNet\u001b[39;00m\n\u001b[1;32m--> 169\u001b[0m     features \u001b[38;5;241m=\u001b[39m \u001b[38;5;28;43mself\u001b[39;49m\u001b[38;5;241;43m.\u001b[39;49m\u001b[43meffnet\u001b[49m\u001b[43m(\u001b[49m\u001b[43mx\u001b[49m\u001b[43m)\u001b[49m\n\u001b[0;32m    171\u001b[0m     \u001b[38;5;66;03m# Pass the features through the classifier\u001b[39;00m\n\u001b[0;32m    172\u001b[0m     output \u001b[38;5;241m=\u001b[39m \u001b[38;5;28mself\u001b[39m\u001b[38;5;241m.\u001b[39mclassifier(features)\n",
      "File \u001b[1;32me:\\Anaconda3\\envs\\sound\\lib\\site-packages\\torch\\nn\\modules\\module.py:1501\u001b[0m, in \u001b[0;36mModule._call_impl\u001b[1;34m(self, *args, **kwargs)\u001b[0m\n\u001b[0;32m   1496\u001b[0m \u001b[38;5;66;03m# If we don't have any hooks, we want to skip the rest of the logic in\u001b[39;00m\n\u001b[0;32m   1497\u001b[0m \u001b[38;5;66;03m# this function, and just call forward.\u001b[39;00m\n\u001b[0;32m   1498\u001b[0m \u001b[38;5;28;01mif\u001b[39;00m \u001b[38;5;129;01mnot\u001b[39;00m (\u001b[38;5;28mself\u001b[39m\u001b[38;5;241m.\u001b[39m_backward_hooks \u001b[38;5;129;01mor\u001b[39;00m \u001b[38;5;28mself\u001b[39m\u001b[38;5;241m.\u001b[39m_backward_pre_hooks \u001b[38;5;129;01mor\u001b[39;00m \u001b[38;5;28mself\u001b[39m\u001b[38;5;241m.\u001b[39m_forward_hooks \u001b[38;5;129;01mor\u001b[39;00m \u001b[38;5;28mself\u001b[39m\u001b[38;5;241m.\u001b[39m_forward_pre_hooks\n\u001b[0;32m   1499\u001b[0m         \u001b[38;5;129;01mor\u001b[39;00m _global_backward_pre_hooks \u001b[38;5;129;01mor\u001b[39;00m _global_backward_hooks\n\u001b[0;32m   1500\u001b[0m         \u001b[38;5;129;01mor\u001b[39;00m _global_forward_hooks \u001b[38;5;129;01mor\u001b[39;00m _global_forward_pre_hooks):\n\u001b[1;32m-> 1501\u001b[0m     \u001b[38;5;28;01mreturn\u001b[39;00m forward_call(\u001b[38;5;241m*\u001b[39margs, \u001b[38;5;241m*\u001b[39m\u001b[38;5;241m*\u001b[39mkwargs)\n\u001b[0;32m   1502\u001b[0m \u001b[38;5;66;03m# Do not call functions when jit is used\u001b[39;00m\n\u001b[0;32m   1503\u001b[0m full_backward_hooks, non_full_backward_hooks \u001b[38;5;241m=\u001b[39m [], []\n",
      "File \u001b[1;32me:\\Anaconda3\\envs\\sound\\lib\\site-packages\\timm\\models\\efficientnet.py:179\u001b[0m, in \u001b[0;36mEfficientNet.forward\u001b[1;34m(self, x)\u001b[0m\n\u001b[0;32m    178\u001b[0m \u001b[38;5;28;01mdef\u001b[39;00m \u001b[38;5;21mforward\u001b[39m(\u001b[38;5;28mself\u001b[39m, x):\n\u001b[1;32m--> 179\u001b[0m     x \u001b[38;5;241m=\u001b[39m \u001b[38;5;28;43mself\u001b[39;49m\u001b[38;5;241;43m.\u001b[39;49m\u001b[43mforward_features\u001b[49m\u001b[43m(\u001b[49m\u001b[43mx\u001b[49m\u001b[43m)\u001b[49m\n\u001b[0;32m    180\u001b[0m     x \u001b[38;5;241m=\u001b[39m \u001b[38;5;28mself\u001b[39m\u001b[38;5;241m.\u001b[39mforward_head(x)\n\u001b[0;32m    181\u001b[0m     \u001b[38;5;28;01mreturn\u001b[39;00m x\n",
      "File \u001b[1;32me:\\Anaconda3\\envs\\sound\\lib\\site-packages\\timm\\models\\efficientnet.py:167\u001b[0m, in \u001b[0;36mEfficientNet.forward_features\u001b[1;34m(self, x)\u001b[0m\n\u001b[0;32m    165\u001b[0m     x \u001b[38;5;241m=\u001b[39m checkpoint_seq(\u001b[38;5;28mself\u001b[39m\u001b[38;5;241m.\u001b[39mblocks, x, flatten\u001b[38;5;241m=\u001b[39m\u001b[38;5;28;01mTrue\u001b[39;00m)\n\u001b[0;32m    166\u001b[0m \u001b[38;5;28;01melse\u001b[39;00m:\n\u001b[1;32m--> 167\u001b[0m     x \u001b[38;5;241m=\u001b[39m \u001b[38;5;28;43mself\u001b[39;49m\u001b[38;5;241;43m.\u001b[39;49m\u001b[43mblocks\u001b[49m\u001b[43m(\u001b[49m\u001b[43mx\u001b[49m\u001b[43m)\u001b[49m\n\u001b[0;32m    168\u001b[0m x \u001b[38;5;241m=\u001b[39m \u001b[38;5;28mself\u001b[39m\u001b[38;5;241m.\u001b[39mconv_head(x)\n\u001b[0;32m    169\u001b[0m x \u001b[38;5;241m=\u001b[39m \u001b[38;5;28mself\u001b[39m\u001b[38;5;241m.\u001b[39mbn2(x)\n",
      "File \u001b[1;32me:\\Anaconda3\\envs\\sound\\lib\\site-packages\\torch\\nn\\modules\\module.py:1501\u001b[0m, in \u001b[0;36mModule._call_impl\u001b[1;34m(self, *args, **kwargs)\u001b[0m\n\u001b[0;32m   1496\u001b[0m \u001b[38;5;66;03m# If we don't have any hooks, we want to skip the rest of the logic in\u001b[39;00m\n\u001b[0;32m   1497\u001b[0m \u001b[38;5;66;03m# this function, and just call forward.\u001b[39;00m\n\u001b[0;32m   1498\u001b[0m \u001b[38;5;28;01mif\u001b[39;00m \u001b[38;5;129;01mnot\u001b[39;00m (\u001b[38;5;28mself\u001b[39m\u001b[38;5;241m.\u001b[39m_backward_hooks \u001b[38;5;129;01mor\u001b[39;00m \u001b[38;5;28mself\u001b[39m\u001b[38;5;241m.\u001b[39m_backward_pre_hooks \u001b[38;5;129;01mor\u001b[39;00m \u001b[38;5;28mself\u001b[39m\u001b[38;5;241m.\u001b[39m_forward_hooks \u001b[38;5;129;01mor\u001b[39;00m \u001b[38;5;28mself\u001b[39m\u001b[38;5;241m.\u001b[39m_forward_pre_hooks\n\u001b[0;32m   1499\u001b[0m         \u001b[38;5;129;01mor\u001b[39;00m _global_backward_pre_hooks \u001b[38;5;129;01mor\u001b[39;00m _global_backward_hooks\n\u001b[0;32m   1500\u001b[0m         \u001b[38;5;129;01mor\u001b[39;00m _global_forward_hooks \u001b[38;5;129;01mor\u001b[39;00m _global_forward_pre_hooks):\n\u001b[1;32m-> 1501\u001b[0m     \u001b[38;5;28;01mreturn\u001b[39;00m forward_call(\u001b[38;5;241m*\u001b[39margs, \u001b[38;5;241m*\u001b[39m\u001b[38;5;241m*\u001b[39mkwargs)\n\u001b[0;32m   1502\u001b[0m \u001b[38;5;66;03m# Do not call functions when jit is used\u001b[39;00m\n\u001b[0;32m   1503\u001b[0m full_backward_hooks, non_full_backward_hooks \u001b[38;5;241m=\u001b[39m [], []\n",
      "File \u001b[1;32me:\\Anaconda3\\envs\\sound\\lib\\site-packages\\torch\\nn\\modules\\container.py:217\u001b[0m, in \u001b[0;36mSequential.forward\u001b[1;34m(self, input)\u001b[0m\n\u001b[0;32m    215\u001b[0m \u001b[38;5;28;01mdef\u001b[39;00m \u001b[38;5;21mforward\u001b[39m(\u001b[38;5;28mself\u001b[39m, \u001b[38;5;28minput\u001b[39m):\n\u001b[0;32m    216\u001b[0m     \u001b[38;5;28;01mfor\u001b[39;00m module \u001b[38;5;129;01min\u001b[39;00m \u001b[38;5;28mself\u001b[39m:\n\u001b[1;32m--> 217\u001b[0m         \u001b[38;5;28minput\u001b[39m \u001b[38;5;241m=\u001b[39m \u001b[43mmodule\u001b[49m\u001b[43m(\u001b[49m\u001b[38;5;28;43minput\u001b[39;49m\u001b[43m)\u001b[49m\n\u001b[0;32m    218\u001b[0m     \u001b[38;5;28;01mreturn\u001b[39;00m \u001b[38;5;28minput\u001b[39m\n",
      "File \u001b[1;32me:\\Anaconda3\\envs\\sound\\lib\\site-packages\\torch\\nn\\modules\\module.py:1501\u001b[0m, in \u001b[0;36mModule._call_impl\u001b[1;34m(self, *args, **kwargs)\u001b[0m\n\u001b[0;32m   1496\u001b[0m \u001b[38;5;66;03m# If we don't have any hooks, we want to skip the rest of the logic in\u001b[39;00m\n\u001b[0;32m   1497\u001b[0m \u001b[38;5;66;03m# this function, and just call forward.\u001b[39;00m\n\u001b[0;32m   1498\u001b[0m \u001b[38;5;28;01mif\u001b[39;00m \u001b[38;5;129;01mnot\u001b[39;00m (\u001b[38;5;28mself\u001b[39m\u001b[38;5;241m.\u001b[39m_backward_hooks \u001b[38;5;129;01mor\u001b[39;00m \u001b[38;5;28mself\u001b[39m\u001b[38;5;241m.\u001b[39m_backward_pre_hooks \u001b[38;5;129;01mor\u001b[39;00m \u001b[38;5;28mself\u001b[39m\u001b[38;5;241m.\u001b[39m_forward_hooks \u001b[38;5;129;01mor\u001b[39;00m \u001b[38;5;28mself\u001b[39m\u001b[38;5;241m.\u001b[39m_forward_pre_hooks\n\u001b[0;32m   1499\u001b[0m         \u001b[38;5;129;01mor\u001b[39;00m _global_backward_pre_hooks \u001b[38;5;129;01mor\u001b[39;00m _global_backward_hooks\n\u001b[0;32m   1500\u001b[0m         \u001b[38;5;129;01mor\u001b[39;00m _global_forward_hooks \u001b[38;5;129;01mor\u001b[39;00m _global_forward_pre_hooks):\n\u001b[1;32m-> 1501\u001b[0m     \u001b[38;5;28;01mreturn\u001b[39;00m forward_call(\u001b[38;5;241m*\u001b[39margs, \u001b[38;5;241m*\u001b[39m\u001b[38;5;241m*\u001b[39mkwargs)\n\u001b[0;32m   1502\u001b[0m \u001b[38;5;66;03m# Do not call functions when jit is used\u001b[39;00m\n\u001b[0;32m   1503\u001b[0m full_backward_hooks, non_full_backward_hooks \u001b[38;5;241m=\u001b[39m [], []\n",
      "File \u001b[1;32me:\\Anaconda3\\envs\\sound\\lib\\site-packages\\torch\\nn\\modules\\container.py:217\u001b[0m, in \u001b[0;36mSequential.forward\u001b[1;34m(self, input)\u001b[0m\n\u001b[0;32m    215\u001b[0m \u001b[38;5;28;01mdef\u001b[39;00m \u001b[38;5;21mforward\u001b[39m(\u001b[38;5;28mself\u001b[39m, \u001b[38;5;28minput\u001b[39m):\n\u001b[0;32m    216\u001b[0m     \u001b[38;5;28;01mfor\u001b[39;00m module \u001b[38;5;129;01min\u001b[39;00m \u001b[38;5;28mself\u001b[39m:\n\u001b[1;32m--> 217\u001b[0m         \u001b[38;5;28minput\u001b[39m \u001b[38;5;241m=\u001b[39m \u001b[43mmodule\u001b[49m\u001b[43m(\u001b[49m\u001b[38;5;28;43minput\u001b[39;49m\u001b[43m)\u001b[49m\n\u001b[0;32m    218\u001b[0m     \u001b[38;5;28;01mreturn\u001b[39;00m \u001b[38;5;28minput\u001b[39m\n",
      "File \u001b[1;32me:\\Anaconda3\\envs\\sound\\lib\\site-packages\\torch\\nn\\modules\\module.py:1501\u001b[0m, in \u001b[0;36mModule._call_impl\u001b[1;34m(self, *args, **kwargs)\u001b[0m\n\u001b[0;32m   1496\u001b[0m \u001b[38;5;66;03m# If we don't have any hooks, we want to skip the rest of the logic in\u001b[39;00m\n\u001b[0;32m   1497\u001b[0m \u001b[38;5;66;03m# this function, and just call forward.\u001b[39;00m\n\u001b[0;32m   1498\u001b[0m \u001b[38;5;28;01mif\u001b[39;00m \u001b[38;5;129;01mnot\u001b[39;00m (\u001b[38;5;28mself\u001b[39m\u001b[38;5;241m.\u001b[39m_backward_hooks \u001b[38;5;129;01mor\u001b[39;00m \u001b[38;5;28mself\u001b[39m\u001b[38;5;241m.\u001b[39m_backward_pre_hooks \u001b[38;5;129;01mor\u001b[39;00m \u001b[38;5;28mself\u001b[39m\u001b[38;5;241m.\u001b[39m_forward_hooks \u001b[38;5;129;01mor\u001b[39;00m \u001b[38;5;28mself\u001b[39m\u001b[38;5;241m.\u001b[39m_forward_pre_hooks\n\u001b[0;32m   1499\u001b[0m         \u001b[38;5;129;01mor\u001b[39;00m _global_backward_pre_hooks \u001b[38;5;129;01mor\u001b[39;00m _global_backward_hooks\n\u001b[0;32m   1500\u001b[0m         \u001b[38;5;129;01mor\u001b[39;00m _global_forward_hooks \u001b[38;5;129;01mor\u001b[39;00m _global_forward_pre_hooks):\n\u001b[1;32m-> 1501\u001b[0m     \u001b[38;5;28;01mreturn\u001b[39;00m forward_call(\u001b[38;5;241m*\u001b[39margs, \u001b[38;5;241m*\u001b[39m\u001b[38;5;241m*\u001b[39mkwargs)\n\u001b[0;32m   1502\u001b[0m \u001b[38;5;66;03m# Do not call functions when jit is used\u001b[39;00m\n\u001b[0;32m   1503\u001b[0m full_backward_hooks, non_full_backward_hooks \u001b[38;5;241m=\u001b[39m [], []\n",
      "File \u001b[1;32me:\\Anaconda3\\envs\\sound\\lib\\site-packages\\timm\\models\\_efficientnet_blocks.py:181\u001b[0m, in \u001b[0;36mInvertedResidual.forward\u001b[1;34m(self, x)\u001b[0m\n\u001b[0;32m    179\u001b[0m shortcut \u001b[38;5;241m=\u001b[39m x\n\u001b[0;32m    180\u001b[0m x \u001b[38;5;241m=\u001b[39m \u001b[38;5;28mself\u001b[39m\u001b[38;5;241m.\u001b[39mconv_pw(x)\n\u001b[1;32m--> 181\u001b[0m x \u001b[38;5;241m=\u001b[39m \u001b[38;5;28;43mself\u001b[39;49m\u001b[38;5;241;43m.\u001b[39;49m\u001b[43mbn1\u001b[49m\u001b[43m(\u001b[49m\u001b[43mx\u001b[49m\u001b[43m)\u001b[49m\n\u001b[0;32m    182\u001b[0m x \u001b[38;5;241m=\u001b[39m \u001b[38;5;28mself\u001b[39m\u001b[38;5;241m.\u001b[39mconv_dw(x)\n\u001b[0;32m    183\u001b[0m x \u001b[38;5;241m=\u001b[39m \u001b[38;5;28mself\u001b[39m\u001b[38;5;241m.\u001b[39mbn2(x)\n",
      "File \u001b[1;32me:\\Anaconda3\\envs\\sound\\lib\\site-packages\\torch\\nn\\modules\\module.py:1501\u001b[0m, in \u001b[0;36mModule._call_impl\u001b[1;34m(self, *args, **kwargs)\u001b[0m\n\u001b[0;32m   1496\u001b[0m \u001b[38;5;66;03m# If we don't have any hooks, we want to skip the rest of the logic in\u001b[39;00m\n\u001b[0;32m   1497\u001b[0m \u001b[38;5;66;03m# this function, and just call forward.\u001b[39;00m\n\u001b[0;32m   1498\u001b[0m \u001b[38;5;28;01mif\u001b[39;00m \u001b[38;5;129;01mnot\u001b[39;00m (\u001b[38;5;28mself\u001b[39m\u001b[38;5;241m.\u001b[39m_backward_hooks \u001b[38;5;129;01mor\u001b[39;00m \u001b[38;5;28mself\u001b[39m\u001b[38;5;241m.\u001b[39m_backward_pre_hooks \u001b[38;5;129;01mor\u001b[39;00m \u001b[38;5;28mself\u001b[39m\u001b[38;5;241m.\u001b[39m_forward_hooks \u001b[38;5;129;01mor\u001b[39;00m \u001b[38;5;28mself\u001b[39m\u001b[38;5;241m.\u001b[39m_forward_pre_hooks\n\u001b[0;32m   1499\u001b[0m         \u001b[38;5;129;01mor\u001b[39;00m _global_backward_pre_hooks \u001b[38;5;129;01mor\u001b[39;00m _global_backward_hooks\n\u001b[0;32m   1500\u001b[0m         \u001b[38;5;129;01mor\u001b[39;00m _global_forward_hooks \u001b[38;5;129;01mor\u001b[39;00m _global_forward_pre_hooks):\n\u001b[1;32m-> 1501\u001b[0m     \u001b[38;5;28;01mreturn\u001b[39;00m forward_call(\u001b[38;5;241m*\u001b[39margs, \u001b[38;5;241m*\u001b[39m\u001b[38;5;241m*\u001b[39mkwargs)\n\u001b[0;32m   1502\u001b[0m \u001b[38;5;66;03m# Do not call functions when jit is used\u001b[39;00m\n\u001b[0;32m   1503\u001b[0m full_backward_hooks, non_full_backward_hooks \u001b[38;5;241m=\u001b[39m [], []\n",
      "File \u001b[1;32me:\\Anaconda3\\envs\\sound\\lib\\site-packages\\timm\\layers\\norm_act.py:130\u001b[0m, in \u001b[0;36mBatchNormAct2d.forward\u001b[1;34m(self, x)\u001b[0m\n\u001b[0;32m    118\u001b[0m x \u001b[38;5;241m=\u001b[39m F\u001b[38;5;241m.\u001b[39mbatch_norm(\n\u001b[0;32m    119\u001b[0m     x,\n\u001b[0;32m    120\u001b[0m     \u001b[38;5;66;03m# If buffers are not to be tracked, ensure that they won't be updated\u001b[39;00m\n\u001b[1;32m   (...)\u001b[0m\n\u001b[0;32m    127\u001b[0m     \u001b[38;5;28mself\u001b[39m\u001b[38;5;241m.\u001b[39meps,\n\u001b[0;32m    128\u001b[0m )\n\u001b[0;32m    129\u001b[0m x \u001b[38;5;241m=\u001b[39m \u001b[38;5;28mself\u001b[39m\u001b[38;5;241m.\u001b[39mdrop(x)\n\u001b[1;32m--> 130\u001b[0m x \u001b[38;5;241m=\u001b[39m \u001b[38;5;28;43mself\u001b[39;49m\u001b[38;5;241;43m.\u001b[39;49m\u001b[43mact\u001b[49m\u001b[43m(\u001b[49m\u001b[43mx\u001b[49m\u001b[43m)\u001b[49m\n\u001b[0;32m    131\u001b[0m \u001b[38;5;28;01mreturn\u001b[39;00m x\n",
      "File \u001b[1;32me:\\Anaconda3\\envs\\sound\\lib\\site-packages\\torch\\nn\\modules\\module.py:1501\u001b[0m, in \u001b[0;36mModule._call_impl\u001b[1;34m(self, *args, **kwargs)\u001b[0m\n\u001b[0;32m   1496\u001b[0m \u001b[38;5;66;03m# If we don't have any hooks, we want to skip the rest of the logic in\u001b[39;00m\n\u001b[0;32m   1497\u001b[0m \u001b[38;5;66;03m# this function, and just call forward.\u001b[39;00m\n\u001b[0;32m   1498\u001b[0m \u001b[38;5;28;01mif\u001b[39;00m \u001b[38;5;129;01mnot\u001b[39;00m (\u001b[38;5;28mself\u001b[39m\u001b[38;5;241m.\u001b[39m_backward_hooks \u001b[38;5;129;01mor\u001b[39;00m \u001b[38;5;28mself\u001b[39m\u001b[38;5;241m.\u001b[39m_backward_pre_hooks \u001b[38;5;129;01mor\u001b[39;00m \u001b[38;5;28mself\u001b[39m\u001b[38;5;241m.\u001b[39m_forward_hooks \u001b[38;5;129;01mor\u001b[39;00m \u001b[38;5;28mself\u001b[39m\u001b[38;5;241m.\u001b[39m_forward_pre_hooks\n\u001b[0;32m   1499\u001b[0m         \u001b[38;5;129;01mor\u001b[39;00m _global_backward_pre_hooks \u001b[38;5;129;01mor\u001b[39;00m _global_backward_hooks\n\u001b[0;32m   1500\u001b[0m         \u001b[38;5;129;01mor\u001b[39;00m _global_forward_hooks \u001b[38;5;129;01mor\u001b[39;00m _global_forward_pre_hooks):\n\u001b[1;32m-> 1501\u001b[0m     \u001b[38;5;28;01mreturn\u001b[39;00m forward_call(\u001b[38;5;241m*\u001b[39margs, \u001b[38;5;241m*\u001b[39m\u001b[38;5;241m*\u001b[39mkwargs)\n\u001b[0;32m   1502\u001b[0m \u001b[38;5;66;03m# Do not call functions when jit is used\u001b[39;00m\n\u001b[0;32m   1503\u001b[0m full_backward_hooks, non_full_backward_hooks \u001b[38;5;241m=\u001b[39m [], []\n",
      "File \u001b[1;32me:\\Anaconda3\\envs\\sound\\lib\\site-packages\\torch\\nn\\modules\\activation.py:396\u001b[0m, in \u001b[0;36mSiLU.forward\u001b[1;34m(self, input)\u001b[0m\n\u001b[0;32m    395\u001b[0m \u001b[38;5;28;01mdef\u001b[39;00m \u001b[38;5;21mforward\u001b[39m(\u001b[38;5;28mself\u001b[39m, \u001b[38;5;28minput\u001b[39m: Tensor) \u001b[38;5;241m-\u001b[39m\u001b[38;5;241m>\u001b[39m Tensor:\n\u001b[1;32m--> 396\u001b[0m     \u001b[38;5;28;01mreturn\u001b[39;00m \u001b[43mF\u001b[49m\u001b[38;5;241;43m.\u001b[39;49m\u001b[43msilu\u001b[49m\u001b[43m(\u001b[49m\u001b[38;5;28;43minput\u001b[39;49m\u001b[43m,\u001b[49m\u001b[43m \u001b[49m\u001b[43minplace\u001b[49m\u001b[38;5;241;43m=\u001b[39;49m\u001b[38;5;28;43mself\u001b[39;49m\u001b[38;5;241;43m.\u001b[39;49m\u001b[43minplace\u001b[49m\u001b[43m)\u001b[49m\n",
      "File \u001b[1;32me:\\Anaconda3\\envs\\sound\\lib\\site-packages\\torch\\nn\\functional.py:2058\u001b[0m, in \u001b[0;36msilu\u001b[1;34m(input, inplace)\u001b[0m\n\u001b[0;32m   2056\u001b[0m     \u001b[38;5;28;01mreturn\u001b[39;00m handle_torch_function(silu, (\u001b[38;5;28minput\u001b[39m,), \u001b[38;5;28minput\u001b[39m, inplace\u001b[38;5;241m=\u001b[39minplace)\n\u001b[0;32m   2057\u001b[0m \u001b[38;5;28;01mif\u001b[39;00m inplace:\n\u001b[1;32m-> 2058\u001b[0m     \u001b[38;5;28;01mreturn\u001b[39;00m \u001b[43mtorch\u001b[49m\u001b[38;5;241;43m.\u001b[39;49m\u001b[43m_C\u001b[49m\u001b[38;5;241;43m.\u001b[39;49m\u001b[43m_nn\u001b[49m\u001b[38;5;241;43m.\u001b[39;49m\u001b[43msilu_\u001b[49m\u001b[43m(\u001b[49m\u001b[38;5;28;43minput\u001b[39;49m\u001b[43m)\u001b[49m\n\u001b[0;32m   2059\u001b[0m \u001b[38;5;28;01mreturn\u001b[39;00m torch\u001b[38;5;241m.\u001b[39m_C\u001b[38;5;241m.\u001b[39m_nn\u001b[38;5;241m.\u001b[39msilu(\u001b[38;5;28minput\u001b[39m)\n",
      "\u001b[1;31mOutOfMemoryError\u001b[0m: CUDA out of memory. Tried to allocate 22.00 MiB (GPU 0; 6.00 GiB total capacity; 5.06 GiB already allocated; 0 bytes free; 5.33 GiB reserved in total by PyTorch) If reserved memory is >> allocated memory try setting max_split_size_mb to avoid fragmentation.  See documentation for Memory Management and PYTORCH_CUDA_ALLOC_CONF"
     ]
    }
   ],
   "source": [
    "bestMod=utils.BestSelector(acc=0)\n",
    "train_logs=utils.Logs()\n",
    "\n",
    "\n",
    "resnet_model=get_pretrained()\n",
    "# 定义损失函数和优化器\n",
    "criterion = nn.CrossEntropyLoss()\n",
    "# criterion = nn.BCELoss()\n",
    "if config.optim == \"Adam\":\n",
    "    optimizer = optim.Adam(resnet_model.parameters(), lr=config.lr)\n",
    "else:\n",
    "    optimizer = optim.SGD(resnet_model.parameters(), lr=config.lr, momentum=0.9, weight_decay=1e-4)\n",
    "    \n",
    "bestMod,train_logs=train_model(\n",
    "            resnet_model, \n",
    "            criterion,\n",
    "            optimizer, \n",
    "            train_loader,\n",
    "            val_loader,\n",
    "            bestMod=bestMod,\n",
    "            train_logs=train_logs,\n",
    "            num_epochs=config.epochs\n",
    "        )"
   ]
  },
  {
   "cell_type": "code",
   "execution_count": null,
   "metadata": {},
   "outputs": [
    {
     "name": "stdout",
     "output_type": "stream",
     "text": [
      "40 epoch中 最好的模型\n",
      "acc : 1.0 ,loss : 0.06075358022935688 ,precision : 1.0 ,recall : 1.0 ,epoch : 18 ,ap : 0.00980392156862745 \n"
     ]
    }
   ],
   "source": [
    "print(f\"{config.epochs} epoch中 最好的模型\")\n",
    "print(bestMod)"
   ]
  },
  {
   "cell_type": "code",
   "execution_count": null,
   "metadata": {},
   "outputs": [
    {
     "name": "stdout",
     "output_type": "stream",
     "text": [
      "save_weights\\CustomEfficientNet_b1-acc=1.0-loss=0.060754-max_epochs=40-1100\n"
     ]
    }
   ],
   "source": [
    "saveDir=r'save_weights'\n",
    "utils.saveProcess(\n",
    "    saveDir=os.path.join(saveDir,f'{bestMod.model.__class__.__name__}-acc={round(bestMod.acc,5)}-loss={round(bestMod.loss,6)}-max_epochs={config.epochs}-1100'),\n",
    "    bestMod=bestMod,\n",
    "    train_log=train_logs,\n",
    "    config=config\n",
    ")"
   ]
  },
  {
   "cell_type": "code",
   "execution_count": null,
   "metadata": {},
   "outputs": [],
   "source": [
    "from tqdm import tqdm\n",
    "def test(model,split=False,testdata_path=r'test_dir'):\n",
    "    model.to(config.device)\n",
    "    test_dataset=datasets.CustomImageDataset(testdata_path)\n",
    "    transform=datasets.get_transform(\"val\")\n",
    "\n",
    "    # test_loader=DataLoader(test_dataset,batch_size=4)\n",
    "    total,correct=0,0\n",
    "    model.eval()\n",
    "    correct = 0\n",
    "    total = 0\n",
    "    with torch.no_grad():\n",
    "        predicted_scores=[]\n",
    "        labels=[]\n",
    "        for img,label in tqdm(test_dataset):\n",
    "            if split :\n",
    "                imgs=imgs[0]\n",
    "            else:\n",
    "                imgs=[imgs[1]]\n",
    "            pred=0\n",
    "        # if True:\n",
    "            for inputs in imgs:\n",
    "                inputs=inputs.to(config.device)\n",
    "                \n",
    "\n",
    "                outputs = model(inputs)\n",
    "                print(outputs)\n",
    "                _, predicted = torch.max(outputs.data, 1)\n",
    "                pre=predicted.item()\n",
    "                predicted_scores.extend(outputs[:, 1].cpu().numpy())\n",
    "                labels.extend([label])\n",
    "                if pre==1:\n",
    "                    pred=1\n",
    "                    break\n",
    "            if label==pred:\n",
    "                correct+=1\n",
    "            total += 1\n",
    "\n",
    "    print(f\"测试集准确率:{correct/total}\")\n",
    "    return labels,predicted_scores"
   ]
  },
  {
   "cell_type": "code",
   "execution_count": null,
   "metadata": {},
   "outputs": [],
   "source": [
    "def get_ROCandAUC(labels,preds_prob):\n",
    "    fpr, tpr, thresholds = roc_curve([labels], [preds_prob])\n",
    "    auc_score =  roc_auc_score([labels], [preds_prob])\n",
    "    return fpr,tpr,auc_score\n"
   ]
  },
  {
   "cell_type": "code",
   "execution_count": null,
   "metadata": {},
   "outputs": [],
   "source": [
    "import numpy as np\n",
    "def softmax(x):\n",
    "    exp_x = np.exp(x - np.max(x))  # 减去最大值，防止数值溢出\n",
    "    return exp_x / exp_x.sum()"
   ]
  },
  {
   "cell_type": "code",
   "execution_count": null,
   "metadata": {},
   "outputs": [
    {
     "ename": "ImportError",
     "evalue": "cannot import name 'test' from 'utils' (d:\\Desktop\\深度学习\\11.大三下课设\\人脸识别\\utils\\__init__.py)",
     "output_type": "error",
     "traceback": [
      "\u001b[1;31m---------------------------------------------------------------------------\u001b[0m",
      "\u001b[1;31mImportError\u001b[0m                               Traceback (most recent call last)",
      "Cell \u001b[1;32mIn[28], line 2\u001b[0m\n\u001b[0;32m      1\u001b[0m \u001b[38;5;28;01mimport\u001b[39;00m \u001b[38;5;21;01mtorch\u001b[39;00m\n\u001b[1;32m----> 2\u001b[0m \u001b[38;5;28;01mfrom\u001b[39;00m \u001b[38;5;21;01mutils\u001b[39;00m \u001b[38;5;28;01mimport\u001b[39;00m test,utils\n\u001b[0;32m      3\u001b[0m \u001b[38;5;28;01mimport\u001b[39;00m \u001b[38;5;21;01mos\u001b[39;00m\n\u001b[0;32m      4\u001b[0m \u001b[38;5;28mdir\u001b[39m\u001b[38;5;241m=\u001b[39m\u001b[38;5;124mr\u001b[39m\u001b[38;5;124m\"\u001b[39m\u001b[38;5;124mmodel_dir\u001b[39m\u001b[38;5;124m\"\u001b[39m\n",
      "\u001b[1;31mImportError\u001b[0m: cannot import name 'test' from 'utils' (d:\\Desktop\\深度学习\\11.大三下课设\\人脸识别\\utils\\__init__.py)"
     ]
    }
   ],
   "source": [
    "import torch\n",
    "from utils import test,utils\n",
    "import os\n",
    "dir=r\"model_dir\"\n",
    "config=utils.Config(os.path.join(dir,'config.json'))\n",
    "model=utils.BestSelector(os.path.join(dir,'metrics.json'))\n",
    "\n",
    "labels,predicted_scores=test.test(\n",
    "                            config,\n",
    "                            model.model,\n",
    "                            testdata_path=r\"test_data_path\"\n",
    ")\n",
    "\n"
   ]
  },
  {
   "cell_type": "code",
   "execution_count": null,
   "metadata": {},
   "outputs": [],
   "source": [
    "import json\n",
    "\n",
    "\n",
    "fpr,tpr,auc_score=test.get_ROCandAUC(\n",
    "    labels,\n",
    "    predicted_scores\n",
    ")\n",
    "res={\n",
    "    \"fpr\":fpr.tolist(),\n",
    "    \"tpr\":tpr.tolist(),\n",
    "    \"auc_score\":auc_score\n",
    "}\n",
    "json.dump(res,open(\"roc.json\",mode='w'))\n"
   ]
  },
  {
   "cell_type": "code",
   "execution_count": null,
   "metadata": {},
   "outputs": [
    {
     "data": {
      "text/plain": [
       "<matplotlib.legend.Legend at 0x185af7de190>"
      ]
     },
     "execution_count": 9,
     "metadata": {},
     "output_type": "execute_result"
    },
    {
     "data": {
      "image/png": "[encoded data removed]",
      "text/plain": [
       "<Figure size 640x480 with 1 Axes>"
      ]
     },
     "metadata": {},
     "output_type": "display_data"
    }
   ],
   "source": [
    "from sklearn.metrics import precision_recall_curve\n",
    "import matplotlib.pyplot as plt\n",
    "\n",
    "precision, recall, threshold = precision_recall_curve(\n",
    "    labels,\n",
    "    predicted_scores, \n",
    "    pos_label=1\n",
    "    )\n",
    "res={\n",
    "    \"precision\":precision.tolist(),\n",
    "    \"recall\":recall.tolist()\n",
    "}\n",
    "json.dump(res,open(\"pr.json\",mode='w'))\n",
    "fig = plt.figure()\n",
    "plt.plot(precision, recall, label='Logistic')\n",
    "\n",
    "plt.xlabel('Recall')\n",
    "plt.ylabel('Precision')\n",
    "plt.legend()"
   ]
  },
  {
   "cell_type": "code",
   "execution_count": null,
   "metadata": {},
   "outputs": [
    {
     "data": {
      "image/png": "[encoded data removed]",
      "text/plain": [
       "<Figure size 800x600 with 1 Axes>"
      ]
     },
     "metadata": {},
     "output_type": "display_data"
    }
   ],
   "source": [
    "# fpr,tpr,auc_score=get_ROCandAUC(labels,predicted_scores)\n",
    "\n",
    "plt.figure(figsize=(8, 6))\n",
    "plt.plot(fpr, tpr, color='darkorange', lw=2, label=f'AUC = {auc_score}')\n",
    "plt.plot([0, 1], [0, 1], color='navy', lw=2, linestyle='--')\n",
    "plt.xlim([0.0, 1.0])\n",
    "plt.ylim([0.0, 1.05])\n",
    "plt.xlabel('False Positive Rate (FPR)')\n",
    "plt.ylabel('True Positive Rate (TPR)')\n",
    "plt.title('Receiver Operating Characteristic (ROC) Curve')\n",
    "plt.legend(loc=\"lower right\")\n",
    "plt.show()\n"
   ]
  },
  {
   "cell_type": "code",
   "execution_count": null,
   "metadata": {},
   "outputs": [],
   "source": [
    "import json\n",
    "\n",
    "\n",
    "fpr,tpr,auc_score=test.get_ROCandAUC(\n",
    "    labels,\n",
    "    predicted_scores\n",
    "    )\n",
    "# fpt_train,tpr_train,auc_train=train_logs.\n",
    "res={\n",
    "    \"fpr\":fpr.tolist(),\n",
    "    \"tpr\":tpr.tolist(),\n",
    "    \"auc_score\":auc_score\n",
    "}\n",
    "# json.dump(res,open(\"roc.json\",mode='w'))"
   ]
  }
 ],
 "metadata": {
  "kernelspec": {
   "display_name": "wheat_1",
   "language": "python",
   "name": "python3"
  },
  "language_info": {
   "codemirror_mode": {
    "name": "ipython",
    "version": 3
   },
   "file_extension": ".py",
   "mimetype": "text/x-python",
   "name": "python",
   "nbconvert_exporter": "python",
   "pygments_lexer": "ipython3",
   "version": "3.9.17"
  }
 },
 "nbformat": 4,
 "nbformat_minor": 2
}
